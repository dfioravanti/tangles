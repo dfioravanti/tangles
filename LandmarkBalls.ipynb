{
 "cells": [
  {
   "cell_type": "code",
   "execution_count": 1,
   "metadata": {},
   "outputs": [],
   "source": [
    "import numpy as np\n",
    "import networkx as nx\n",
    "import algorithms\n",
    "import evaluate"
   ]
  },
  {
   "cell_type": "code",
   "execution_count": 2,
   "metadata": {},
   "outputs": [],
   "source": [
    "def list_minus(x, y):\n",
    "    return list(set(x) - set(y))\n",
    "\n",
    "# TODO: parallelize assignment sampling\n",
    "# TODO: ensure that coarse graph is not disconnected (i.e. every node is within some r-ball)\n",
    "\n",
    "def landmark_partition(A, num_landmark, radius, affinity_fn, K=2):\n",
    "    \"\"\" Compute k-way partition coarsening the input graph into balls \"\"\"\n",
    "    n = A.shape[0]\n",
    "    # 1. Choose landmark points\n",
    "    L = np.random.choice(n, size=num_landmark, replace=False)\n",
    "    # 2. Compute distances within radius r\n",
    "    D = np.zeros((n, num_landmark))\n",
    "    for i in range(num_landmark):\n",
    "        U_old = []\n",
    "        U = [L[i]]\n",
    "        for r in range(1, radius+1):\n",
    "            U_comp = np.array(list_minus(np.arange(n), U)) # Complement of U\n",
    "            A_sub = A[np.ix_(U, U_comp)] # Submatrix from U to its complement          \n",
    "            neighbors = list_minus(U_comp[np.max(A_sub, axis=0)>0], U_old) # Seen nodes cannot be new neighbors\n",
    "            U, U_old = neighbors, U\n",
    "            if len(U) == 0:\n",
    "                break            \n",
    "            D[list(U), i] = affinity_fn(r) \n",
    "\n",
    "\n",
    "    # Overwrite rows for landmark points, such that they get assigned deterministically (weight probto infty)\n",
    "    # (Alternative: don't sample for landmark points at all)\n",
    "    D[L] = np.eye(num_landmark)\n",
    "    # TODO: Ensure that every point is within some ball\n",
    "    assert np.min(np.max(D, axis=1)) > 0, 'Too few/ small balls: there are points in no ball'\n",
    "    \n",
    "    # 3. Assign vertices to landmark points\n",
    "    P = 1 / D.sum(axis=1, keepdims=True) * D\n",
    "    cell_ixs = list(np.zeros(n))\n",
    "    # TODO: parallelize\n",
    "    for i in range(n):\n",
    "        cell_ixs[i] = np.random.choice(a=L, p=P[i])\n",
    "        \n",
    "    # 4. Define coarsened-graph\n",
    "    node_weights = np.zeros(num_landmark)\n",
    "    A_coarse = np.zeros((num_landmark, num_landmark))\n",
    "    for i in range(num_landmark):\n",
    "        node_weights[i] = cell_ixs.count(L[i])\n",
    "    for i in range(num_landmark):\n",
    "        for j in range(i+1, num_landmark):\n",
    "            A_coarse[i, j] = A[np.ix_(cell_ixs==L[i], cell_ixs==L[j])].sum()\n",
    "    A_coarse += A_coarse.T\n",
    "    # 5. Partition ball-graph\n",
    "    x_coarse = algorithms.compute_spectral_wcut(A=A_coarse, w=node_weights, K=K)\n",
    "    # 6. Project partition to input graph\n",
    "    x = np.zeros(n)\n",
    "    for i in np.where(x_coarse==1)[0]:\n",
    "        x[np.array(cell_ixs)==L[i]] = 1\n",
    "    return x"
   ]
  },
  {
   "cell_type": "code",
   "execution_count": 3,
   "metadata": {},
   "outputs": [],
   "source": [
    "import copy\n",
    "\n",
    "def graph_growing_partition(A, num_landmarks, choose_neighbor_fn, num_meta_landmarks=False,K=2):\n",
    "    \"\"\"Compute K-way partition coarsening the input graph into growing regions.\"\"\"\n",
    "    A = copy.deepcopy(A) # Don't want to destroy input matrix\n",
    "    n = A.shape[0]\n",
    "    # 1. Choose landmark points\n",
    "    if num_meta_landmarks is False:\n",
    "        landmarks = np.random.choice(n, size=num_landmarks, replace=False)        \n",
    "        node_sets = [{v} for v in np.arange(n)]        \n",
    "    else:\n",
    "        A, node_sets, landmarks = landmark_fn(A=A, num_meta_landmarks=num_meta_landmarks, \n",
    "                                              num_landmarks=num_landmarks)        \n",
    "    # 2. Loop until converged    \n",
    "    while len(node_sets) > num_landmarks:\n",
    "    # 3. Choose neighbors for all landmark points\n",
    "        for i in range(num_landmarks):\n",
    "            neighbor = choose_neighbor_fn(base_node=landmarks[i], forbidden_neighbors=landmarks, A=A)\n",
    "    # 4. Merge nodes to obtain new graph\n",
    "            if neighbor is not None:\n",
    "                A, node_sets, landmarks = merge_edge(base_node=landmarks[i], node_to_merge=neighbor, A=A, \n",
    "                                                node_sets=node_sets, landmarks=landmarks)\n",
    "    # 5. Partition coarsened graph\n",
    "    x_coarse = algorithms.compute_spectral_wcut(A=A, w=np.array([len(V) for V in node_sets]), K=K)\n",
    "    # 6. Project partition to input graph\n",
    "#     if K == 2:\n",
    "#         x = np.zeros(n)\n",
    "#         for i in np.where(x_coarse==1)[0]:\n",
    "#             x[list(node_sets[i])] = 1\n",
    "#     else:\n",
    "    x = np.zeros((K, n))\n",
    "    for k in range(K):\n",
    "        for i in np.where(x_coarse[k]==1)[0]:\n",
    "            x[k, list(node_sets[i])] = 1\n",
    "    if K==2:\n",
    "        x = x[0]\n",
    "    return x, node_sets"
   ]
  },
  {
   "cell_type": "code",
   "execution_count": 4,
   "metadata": {},
   "outputs": [],
   "source": [
    "def landmark_fn(A, num_meta_landmarks, num_landmarks):\n",
    "    n = A.shape[0]\n",
    "    # 1. Choose meta landmarks\n",
    "    meta_landmarks = np.random.choice(n, size=num_meta_landmarks, replace=False)  \n",
    "    # 2. Compute their edge weights\n",
    "    A_sub = A[np.ix_(meta_landmarks, meta_landmarks)]\n",
    "    d = np.sum(A_sub, axis=1, keepdims=True)\n",
    "    common_neighbors = A_sub @ A_sub.T\n",
    "    A_meta = common_neighbors / (d + d.T + common_neighbors)\n",
    "    # 3. Partition landmarks\n",
    "    X_meta = algorithms.compute_spectral_wcut(A=A_meta, K=num_landmarks)\n",
    "    # 4. Merge partition: always keep node with smallest index\n",
    "    # Node sets\n",
    "    node_sets = [{v} for v in np.arange(n)]\n",
    "    nodes_to_remove = []\n",
    "    for k in range(num_landmarks):\n",
    "        l_min = np.min(meta_landmarks[X_meta[k]==1])\n",
    "        for l in meta_landmarks[X_meta[k]==1]:\n",
    "            if l != l_min:\n",
    "                node_sets[l_min] = node_sets[l_min].union({l})\n",
    "                nodes_to_remove.append({l})\n",
    "    for node in nodes_to_remove:\n",
    "        node_sets.remove(node)\n",
    "    #     \n",
    "    \n",
    "    return"
   ]
  },
  {
   "cell_type": "code",
   "execution_count": 22,
   "metadata": {},
   "outputs": [
    {
     "name": "stdout",
     "output_type": "stream",
     "text": [
      "[{0}, {1}, {2}, {9, 3}, {4}, {12, 5}, {6}, {10, 7}, {8}, {11}]\n"
     ]
    }
   ],
   "source": [
    "n = 13\n",
    "X_meta = np.array([[0,0,1,1,0,0],\n",
    "                   [1,0,0,0,1,0],\n",
    "                   [0,1,0,0,0,1]])\n",
    "meta_landmarks = np.array([7,5,3,9,10,12])\n",
    "num_landmarks = 3\n",
    "\n",
    "node_sets = [{v} for v in np.arange(n)]\n",
    "nodes_to_remove = []\n",
    "for k in range(num_landmarks):\n",
    "    l_min = np.min(meta_landmarks[X_meta[k]==1])\n",
    "    for l in meta_landmarks[X_meta[k]==1]:\n",
    "        if l != l_min:\n",
    "            node_sets[l_min] = node_sets[l_min].union({l})\n",
    "            nodes_to_remove.append({l})\n",
    "for node in nodes_to_remove:\n",
    "    node_sets.remove(node)\n",
    "print(node_sets)"
   ]
  },
  {
   "cell_type": "code",
   "execution_count": 18,
   "metadata": {},
   "outputs": [
    {
     "data": {
      "text/plain": [
       "1"
      ]
     },
     "execution_count": 18,
     "metadata": {},
     "output_type": "execute_result"
    }
   ],
   "source": [
    "np.min([1,2,3])"
   ]
  },
  {
   "cell_type": "code",
   "execution_count": 19,
   "metadata": {},
   "outputs": [
    {
     "name": "stdout",
     "output_type": "stream",
     "text": [
      "[{0}, {1}, {2}, {3}, {4}]\n"
     ]
    },
    {
     "ename": "TypeError",
     "evalue": "remove() takes exactly one argument (2 given)",
     "output_type": "error",
     "traceback": [
      "\u001b[0;31m---------------------------------------------------------------------------\u001b[0m",
      "\u001b[0;31mTypeError\u001b[0m                                 Traceback (most recent call last)",
      "\u001b[0;32m<ipython-input-19-8c2e3dae48cd>\u001b[0m in \u001b[0;36m<module>\u001b[0;34m\u001b[0m\n\u001b[1;32m      1\u001b[0m \u001b[0mx\u001b[0m \u001b[0;34m=\u001b[0m \u001b[0;34m[\u001b[0m\u001b[0;34m{\u001b[0m\u001b[0mv\u001b[0m\u001b[0;34m}\u001b[0m \u001b[0;32mfor\u001b[0m \u001b[0mv\u001b[0m \u001b[0;32min\u001b[0m \u001b[0mnp\u001b[0m\u001b[0;34m.\u001b[0m\u001b[0marange\u001b[0m\u001b[0;34m(\u001b[0m\u001b[0;36m5\u001b[0m\u001b[0;34m)\u001b[0m\u001b[0;34m]\u001b[0m\u001b[0;34m\u001b[0m\u001b[0;34m\u001b[0m\u001b[0m\n\u001b[1;32m      2\u001b[0m \u001b[0mprint\u001b[0m\u001b[0;34m(\u001b[0m\u001b[0mx\u001b[0m\u001b[0;34m)\u001b[0m\u001b[0;34m\u001b[0m\u001b[0;34m\u001b[0m\u001b[0m\n\u001b[0;32m----> 3\u001b[0;31m \u001b[0mx\u001b[0m\u001b[0;34m.\u001b[0m\u001b[0mremove\u001b[0m\u001b[0;34m(\u001b[0m\u001b[0;34m{\u001b[0m\u001b[0;36m0\u001b[0m\u001b[0;34m}\u001b[0m\u001b[0;34m,\u001b[0m \u001b[0;34m{\u001b[0m\u001b[0;36m1\u001b[0m\u001b[0;34m}\u001b[0m\u001b[0;34m)\u001b[0m\u001b[0;34m\u001b[0m\u001b[0;34m\u001b[0m\u001b[0m\n\u001b[0m\u001b[1;32m      4\u001b[0m \u001b[0mprint\u001b[0m\u001b[0;34m(\u001b[0m\u001b[0mx\u001b[0m\u001b[0;34m)\u001b[0m\u001b[0;34m\u001b[0m\u001b[0;34m\u001b[0m\u001b[0m\n",
      "\u001b[0;31mTypeError\u001b[0m: remove() takes exactly one argument (2 given)"
     ]
    }
   ],
   "source": [
    "x = [{v} for v in np.arange(5)]\n",
    "print(x)\n",
    "x.remove({0})\n",
    "print(x)"
   ]
  },
  {
   "cell_type": "code",
   "execution_count": 5,
   "metadata": {},
   "outputs": [],
   "source": [
    "def choose_neighbor_uniform(base_node, forbidden_neighbors, A):\n",
    "    allowed_neighbors = list_minus(np.where(A[base_node] > 0)[0], forbidden_neighbors)\n",
    "    neighbor = None\n",
    "    if len(allowed_neighbors) > 0:\n",
    "        neighbor = np.random.choice(a=allowed_neighbors)\n",
    "    return neighbor\n",
    "\n",
    "def choose_neighbor_weighted(base_node, forbidden_neighbors, A):\n",
    "    allowed_neighbors = list_minus(np.where(A[base_node] > 0)[0], forbidden_neighbors)\n",
    "    neighbor = None\n",
    "    if len(allowed_neighbors) > 0:\n",
    "        weights = A[base_node, allowed_neighbors]\n",
    "        neighbor = np.random.choice(a=allowed_neighbors, p=weights / weights.sum())\n",
    "    return neighbor\n",
    "\n",
    "def choose_neighbor_maxweight(base_node, forbidden_neighbors, A):\n",
    "    allowed_neighbors = list_minus(np.where(A[base_node] > 0)[0], forbidden_neighbors)\n",
    "    neighbor = None\n",
    "    if len(allowed_neighbors) > 0:\n",
    "        np.random.shuffle(allowed_neighbors)\n",
    "        weights = A[base_node, allowed_neighbors]\n",
    "        neighbor = allowed_neighbors[np.argmax(weights)]\n",
    "    return neighbor\n",
    "\n",
    "def merge_edge(base_node, node_to_merge, A, node_sets, landmarks):\n",
    "    # Update adjacency matrix\n",
    "    A[base_node] += A[node_to_merge]\n",
    "    A[:, base_node] += A[node_to_merge]\n",
    "    A[base_node, base_node] = 0\n",
    "    A = np.delete(A, node_to_merge, axis=0)\n",
    "    A = np.delete(A, node_to_merge, axis=1)\n",
    "    # Update node sets\n",
    "    node_sets[base_node] = node_sets[base_node].union(node_sets[node_to_merge])\n",
    "    del node_sets[node_to_merge]\n",
    "    # Update landmarks\n",
    "    landmarks = [l - (l > node_to_merge) for l in landmarks]\n",
    "    return A, node_sets, landmarks"
   ]
  },
  {
   "cell_type": "markdown",
   "metadata": {},
   "source": [
    "# Test on SBM"
   ]
  },
  {
   "cell_type": "code",
   "execution_count": 6,
   "metadata": {},
   "outputs": [],
   "source": [
    "sizes = np.array([150, 50])\n",
    "p_within = .3\n",
    "p_between = .05\n",
    "p = p_between * np.ones((len(sizes), len(sizes)))\n",
    "np.fill_diagonal(p, p_within)\n",
    "G = nx.stochastic_block_model(sizes=sizes, p=p)\n",
    "A = nx.to_numpy_array(G)"
   ]
  },
  {
   "cell_type": "code",
   "execution_count": 42,
   "metadata": {},
   "outputs": [
    {
     "name": "stderr",
     "output_type": "stream",
     "text": [
      "/Users/lrendsburg/anaconda3/lib/python3.7/site-packages/networkx/drawing/nx_pylab.py:611: MatplotlibDeprecationWarning: isinstance(..., numbers.Number)\n",
      "  if cb.is_numlike(alpha):\n"
     ]
    }
   ],
   "source": [
    "import matplotlib.pyplot as plt\n",
    "nx.draw(G, with_labels=True)"
   ]
  },
  {
   "cell_type": "code",
   "execution_count": 7,
   "metadata": {},
   "outputs": [],
   "source": [
    "def diff_fractions(l):\n",
    "    return(np.abs(l[0] - l[1]))"
   ]
  },
  {
   "cell_type": "code",
   "execution_count": 8,
   "metadata": {},
   "outputs": [
    {
     "name": "stdout",
     "output_type": "stream",
     "text": [
      "Choosing strategy: Uniform\n",
      "num_landmarks=2: frac_diff=0.08000000000000007\n",
      "num_landmarks=20: frac_diff=0.41333333333333333\n",
      "num_landmarks=50: frac_diff=0.5333333333333334\n",
      "num_landmarks=100: frac_diff=0.8\n",
      "Choosing strategy: Weighted\n",
      "num_landmarks=2: frac_diff=0.3466666666666667\n",
      "num_landmarks=20: frac_diff=0.17333333333333334\n"
     ]
    },
    {
     "name": "stderr",
     "output_type": "stream",
     "text": [
      "/Users/lrendsburg/anaconda3/lib/python3.7/site-packages/scipy/sparse/linalg/eigen/arpack/arpack.py:1556: RuntimeWarning: k >= N for N * N square matrix. Attempting to use scipy.linalg.eigh instead.\n",
      "  RuntimeWarning)\n"
     ]
    },
    {
     "name": "stdout",
     "output_type": "stream",
     "text": [
      "num_landmarks=50: frac_diff=0.2666666666666667\n",
      "num_landmarks=100: frac_diff=0.7\n",
      "Choosing strategy: Max\n",
      "num_landmarks=2: frac_diff=0.0\n",
      "num_landmarks=20: frac_diff=0.6\n",
      "num_landmarks=50: frac_diff=0.45333333333333325\n",
      "num_landmarks=100: frac_diff=0.6599999999999999\n"
     ]
    }
   ],
   "source": [
    "names = ['Uniform', 'Weighted', 'Max']\n",
    "for j, choose_neighbor_fn in enumerate([choose_neighbor_uniform, choose_neighbor_weighted, choose_neighbor_maxweight]):\n",
    "    print(f'Choosing strategy: {names[j]}')\n",
    "    for num_landmarks in [2, 20, 50, 100]:\n",
    "        diff = []\n",
    "        for i in range(1):\n",
    "            x, node_sets = graph_growing_partition(A=A, num_landmarks=num_landmarks, \n",
    "                                                   choose_neighbor_fn=choose_neighbor_fn)\n",
    "            diff.append(diff_fractions(evaluate.evaluate_SBM_partition(x=x, sizes=sizes)))\n",
    "        print(f'num_landmarks={num_landmarks}: frac_diff={np.array(diff).mean()}')"
   ]
  },
  {
   "cell_type": "code",
   "execution_count": 9,
   "metadata": {},
   "outputs": [
    {
     "name": "stdout",
     "output_type": "stream",
     "text": [
      "num_landmarks: 2, fractions=0.06933333333333334\n",
      "num_landmarks: 5, fractions=0.3226666666666667\n",
      "num_landmarks: 10, fractions=0.43133333333333335\n",
      "num_landmarks: 20, fractions=0.5846666666666667\n",
      "num_landmarks: 50, fractions=0.6120000000000001\n"
     ]
    }
   ],
   "source": [
    "for num_landmarks in [2, 5, 10, 20, 50]:\n",
    "    avg = []\n",
    "    for _ in range(10):\n",
    "        x, node_sets = graph_growing_partition(A=A, num_landmarks=num_landmarks, \n",
    "                                               choose_neighbor_fn=choose_neighbor_maxweight,\n",
    "                                               K=2)\n",
    "        avg.append(diff_fractions(evaluate.evaluate_SBM_partition(x=x, sizes=sizes)))\n",
    "    print(f'num_landmarks: {num_landmarks}, fractions={np.array(avg).mean()}')"
   ]
  },
  {
   "cell_type": "code",
   "execution_count": 106,
   "metadata": {},
   "outputs": [
    {
     "name": "stdout",
     "output_type": "stream",
     "text": [
      "[7 0 4 1 8 9 6 3 5 2]\n"
     ]
    }
   ],
   "source": [
    "x = np.array(np.arange(10))\n",
    "np.random.shuffle(x)\n",
    "print(x)"
   ]
  },
  {
   "cell_type": "code",
   "execution_count": 117,
   "metadata": {},
   "outputs": [
    {
     "name": "stdout",
     "output_type": "stream",
     "text": [
      "num_landmarks: 3, fractions=0.4446666666666667\n",
      "num_landmarks: 10, fractions=0.39866666666666667\n",
      "num_landmarks: 50, fractions=0.8306666666666667\n",
      "num_landmarks: 100, fractions=0.728\n"
     ]
    }
   ],
   "source": [
    "for num_landmarks in [3, 10, 50, 100]:\n",
    "    avg = []\n",
    "    for _ in range(2):\n",
    "        x, node_sets = graph_growing_partition(A=A, num_landmarks=num_landmarks, \n",
    "                                               choose_neighbor_fn=choose_neighbor_maxweight,\n",
    "                                               K=2)\n",
    "        avg.append(diff_fractions(evaluate.evaluate_SBM_partition(x=x, sizes=sizes)))\n",
    "    print(f'num_landmarks: {num_landmarks}, fractions={np.array(avg).mean()}')"
   ]
  },
  {
   "cell_type": "code",
   "execution_count": 68,
   "metadata": {},
   "outputs": [
    {
     "data": {
      "text/plain": [
       "[[0.7575, 0.2425], [0.78, 0.22], [0.755, 0.245], [0.7575, 0.2425], [0.7, 0.3]]"
      ]
     },
     "execution_count": 68,
     "metadata": {},
     "output_type": "execute_result"
    }
   ],
   "source": [
    "evaluate.evaluate_regions(node_sets=node_sets, sizes=sizes)"
   ]
  }
 ],
 "metadata": {
  "kernelspec": {
   "display_name": "Python 3",
   "language": "python",
   "name": "python3"
  },
  "language_info": {
   "codemirror_mode": {
    "name": "ipython",
    "version": 3
   },
   "file_extension": ".py",
   "mimetype": "text/x-python",
   "name": "python",
   "nbconvert_exporter": "python",
   "pygments_lexer": "ipython3",
   "version": "3.7.1"
  }
 },
 "nbformat": 4,
 "nbformat_minor": 2
}
