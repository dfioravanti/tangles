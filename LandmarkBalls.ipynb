{
 "cells": [
  {
   "cell_type": "code",
   "execution_count": 65,
   "metadata": {},
   "outputs": [],
   "source": [
    "import numpy as np\n",
    "import networkx as nx\n",
    "import algorithms\n",
    "import evaluate"
   ]
  },
  {
   "cell_type": "code",
   "execution_count": 66,
   "metadata": {},
   "outputs": [],
   "source": [
    "def list_minus(x, y):\n",
    "    return list(set(x) - set(y))\n",
    "\n",
    "# TODO: parallelize assignment sampling\n",
    "# TODO: ensure that coarse graph is not disconnected (i.e. every node is within some r-ball)\n",
    "\n",
    "def landmark_partition(A, num_landmark, radius, affinity_fn, K=2):\n",
    "    \"\"\" Compute k-way partition coarsening the input graph into balls \"\"\"\n",
    "    n = A.shape[0]\n",
    "    # 1. Choose landmark points\n",
    "    L = np.random.choice(n, size=num_landmark, replace=False)\n",
    "    # 2. Compute distances within radius r\n",
    "    D = np.zeros((n, num_landmark))\n",
    "    for i in range(num_landmark):\n",
    "        U_old = []\n",
    "        U = [L[i]]\n",
    "        for r in range(1, radius+1):\n",
    "            U_comp = np.array(list_minus(np.arange(n), U)) # Complement of U\n",
    "            A_sub = A[np.ix_(U, U_comp)] # Submatrix from U to its complement          \n",
    "            neighbors = list_minus(U_comp[np.max(A_sub, axis=0)>0], U_old) # Seen nodes cannot be new neighbors\n",
    "            U, U_old = neighbors, U\n",
    "            if len(U) == 0:\n",
    "                break            \n",
    "            D[list(U), i] = affinity_fn(r) \n",
    "\n",
    "\n",
    "    # Overwrite rows for landmark points, such that they get assigned deterministically (weight probto infty)\n",
    "    # (Alternative: don't sample for landmark points at all)\n",
    "    D[L] = np.eye(num_landmark)\n",
    "    # TODO: Ensure that every point is within some ball\n",
    "    assert np.min(np.max(D, axis=1)) > 0, 'Too few/ small balls: there are points in no ball'\n",
    "    \n",
    "    # 3. Assign vertices to landmark points\n",
    "    P = 1 / D.sum(axis=1, keepdims=True) * D\n",
    "    cell_ixs = list(np.zeros(n))\n",
    "    # TODO: parallelize\n",
    "    for i in range(n):\n",
    "        cell_ixs[i] = np.random.choice(a=L, p=P[i])\n",
    "        \n",
    "    # 4. Define coarsened-graph\n",
    "    node_weights = np.zeros(num_landmark)\n",
    "    A_coarse = np.zeros((num_landmark, num_landmark))\n",
    "    for i in range(num_landmark):\n",
    "        node_weights[i] = cell_ixs.count(L[i])\n",
    "    for i in range(num_landmark):\n",
    "        for j in range(i+1, num_landmark):\n",
    "            A_coarse[i, j] = A[np.ix_(cell_ixs==L[i], cell_ixs==L[j])].sum()\n",
    "    A_coarse += A_coarse.T\n",
    "    # 5. Partition ball-graph\n",
    "    x_coarse = algorithms.compute_spectral_wcut(A=A_coarse, w=node_weights, K=K)\n",
    "    # 6. Project partition to input graph\n",
    "    x = np.zeros(n)\n",
    "    for i in np.where(x_coarse==1)[0]:\n",
    "        x[np.array(cell_ixs)==L[i]] = 1\n",
    "    return x"
   ]
  },
  {
   "cell_type": "code",
   "execution_count": 102,
   "metadata": {},
   "outputs": [],
   "source": [
    "import copy\n",
    "\n",
    "def graph_growing_partition(A, num_landmarks, choose_neighbor_fn, num_meta_landmarks=False, K=2):\n",
    "    \"\"\"Compute K-way partition coarsening the input graph into growing regions.\"\"\"\n",
    "    A = copy.deepcopy(A) # Don't want to destroy input matrix\n",
    "    n = A.shape[0]\n",
    "    # 1. Choose landmark points\n",
    "    if num_meta_landmarks is False:\n",
    "        landmarks = np.random.choice(n, size=num_landmarks, replace=False)        \n",
    "        node_sets = [{v} for v in np.arange(n)]        \n",
    "    else:\n",
    "        A, node_sets, landmarks = landmark_fn(A=A, num_meta_landmarks=num_meta_landmarks, \n",
    "                                              num_landmarks=num_landmarks)        \n",
    "    # 2. Loop until converged    \n",
    "    while len(node_sets) > num_landmarks:\n",
    "    # 3. Choose neighbors for all landmark points\n",
    "        for i in range(num_landmarks):\n",
    "            neighbor = choose_neighbor_fn(base_node=landmarks[i], forbidden_neighbors=landmarks, A=A)\n",
    "    # 4. Merge nodes to obtain new graph\n",
    "            if neighbor is not None:\n",
    "                A, node_sets, landmarks = merge_edge(base_node=landmarks[i], node_to_merge=neighbor, A=A, \n",
    "                                                node_sets=node_sets, landmarks=landmarks)\n",
    "    # 5. Partition coarsened graph\n",
    "    x_coarse = algorithms.compute_spectral_wcut(A=A, w=np.array([len(V) for V in node_sets]), K=K)\n",
    "    # 6. Project partition to input graph\n",
    "#     if K == 2:\n",
    "#         x = np.zeros(n)\n",
    "#         for i in np.where(x_coarse==1)[0]:\n",
    "#             x[list(node_sets[i])] = 1\n",
    "#     else:\n",
    "    x = np.zeros((K, n))\n",
    "    for k in range(K):\n",
    "        for i in np.where(x_coarse[k]==1)[0]:\n",
    "            x[k, list(node_sets[i])] = 1\n",
    "    if K==2:\n",
    "        x = x[0]\n",
    "    return x, node_sets"
   ]
  },
  {
   "cell_type": "code",
   "execution_count": 87,
   "metadata": {},
   "outputs": [],
   "source": [
    "# TODO: after building A_meta, how to handle isolated vertices? One possibility: restrict to LCC, throw away\n",
    "# isolated meta landmarks\n",
    "\n",
    "def landmark_fn(A, num_meta_landmarks, num_landmarks, sizes=None):\n",
    "    n = A.shape[0]\n",
    "    # 1. Choose meta landmarks\n",
    "    meta_landmarks = np.random.choice(n, size=num_meta_landmarks, replace=False)  \n",
    "    # 2. Compute their edge weights\n",
    "    A_sub = A[meta_landmarks]\n",
    "    d = np.sum(A_sub, axis=1, keepdims=True)\n",
    "    common_neighbors = A_sub @ A_sub.T\n",
    "    A_meta = A[np.ix_(meta_landmarks, meta_landmarks)] * (1 / d + 1 / d.T) # Connections of order 1\n",
    "    A_meta += common_neighbors / (d + d.T + common_neighbors) # Connections of order 2\n",
    "    np.fill_diagonal(A_meta, 0)\n",
    "    # 3. Partition landmarks\n",
    "    X_meta = algorithms.compute_spectral_wcut(A=A_meta, K=num_landmarks)\n",
    "    # 4. Merge partition: always keep node with smallest index\n",
    "    # Node sets\n",
    "    node_sets = [{v} for v in np.arange(n)]\n",
    "    nodes_to_remove = []\n",
    "    for k in range(num_landmarks): # Iterate over all sets to merge\n",
    "        l_min = np.min(meta_landmarks[X_meta[k]==1]) # Index to keep\n",
    "        for l in meta_landmarks[X_meta[k]==1]: # Iterate over indices to merge\n",
    "            if l != l_min:\n",
    "                node_sets[l_min] = node_sets[l_min].union({l})\n",
    "                A[l_min] += A[l]\n",
    "                A[:, l_min] += A[l]\n",
    "                nodes_to_remove.append(l)\n",
    "    np.fill_diagonal(A, 0)\n",
    "    # Remove merged nodes from nodeset\n",
    "    for node in nodes_to_remove:\n",
    "        node_sets.remove({node})\n",
    "    # Find indices of new landmarks\n",
    "    landmarks = []\n",
    "    for i in range(len(node_sets)):\n",
    "        if len(set(meta_landmarks).intersection(node_sets[i])) != 0:\n",
    "            landmarks.append(i)\n",
    "    # Remove merged nodes from adjacency matrix\n",
    "    nodes_to_keep = list_minus(np.arange(n), nodes_to_remove)\n",
    "    A = A[np.ix_(nodes_to_keep, nodes_to_keep)]   \n",
    "    # For evaluation: test how the grouped meta_landmarks distribute over ground-truth cluster\n",
    "    if sizes is not None:\n",
    "        print('Evaluate grouping of meta landmarks with ground truth')\n",
    "        blocks = []\n",
    "        pos = 0\n",
    "        for i in range(len(sizes)):\n",
    "            blocks.append(set(np.arange(pos, pos+sizes[i])))\n",
    "            pos += sizes[i]\n",
    "        for k in range(num_landmarks):\n",
    "            nodes_per_block = np.zeros(len(sizes))\n",
    "            group = set(meta_landmarks[X_meta[k]==1])\n",
    "            for i, block in enumerate(blocks):\n",
    "                nodes_per_block[i] = len(block.intersection(group))\n",
    "            print(f'Nodes per block: {nodes_per_block}')\n",
    "    return A, node_sets, landmarks"
   ]
  },
  {
   "cell_type": "code",
   "execution_count": 81,
   "metadata": {},
   "outputs": [],
   "source": [
    "v = set([13, 2, 10, 20, 5, 33])\n",
    "sizes = [10, 15, 17]\n",
    "blocks = []\n",
    "pos = 0\n",
    "for i in range(len(sizes)):\n",
    "    blocks.append(set(np.arange(pos, pos+sizes[i])))\n",
    "    pos += sizes[i]"
   ]
  },
  {
   "cell_type": "code",
   "execution_count": 83,
   "metadata": {},
   "outputs": [],
   "source": [
    "nodes_per_block = np.zeros(len(sizes))\n",
    "for j, block in enumerate(blocks):\n",
    "    nodes_per_block[j] = len(block.intersection(v))\n",
    "    "
   ]
  },
  {
   "cell_type": "code",
   "execution_count": 84,
   "metadata": {},
   "outputs": [
    {
     "data": {
      "text/plain": [
       "array([2., 3., 1.])"
      ]
     },
     "execution_count": 84,
     "metadata": {},
     "output_type": "execute_result"
    }
   ],
   "source": [
    "nodes_per_block"
   ]
  },
  {
   "cell_type": "code",
   "execution_count": 80,
   "metadata": {},
   "outputs": [
    {
     "data": {
      "text/plain": [
       "[{0, 1, 2, 3, 4, 5, 6, 7, 8, 9},\n",
       " {10, 11, 12, 13, 14, 15, 16, 17, 18, 19, 20, 21, 22, 23, 24},\n",
       " {25, 26, 27, 28, 29, 30, 31, 32, 33, 34, 35, 36, 37, 38, 39, 40, 41}]"
      ]
     },
     "execution_count": 80,
     "metadata": {},
     "output_type": "execute_result"
    }
   ],
   "source": [
    "blocks"
   ]
  },
  {
   "cell_type": "markdown",
   "metadata": {},
   "source": [
    "# Test landmark merging"
   ]
  },
  {
   "cell_type": "code",
   "execution_count": 69,
   "metadata": {},
   "outputs": [
    {
     "name": "stdout",
     "output_type": "stream",
     "text": [
      "[0, 1, 2, 3, 6, 7]\n",
      "[[0 1 1 0 0 0]\n",
      " [1 0 0 1 0 0]\n",
      " [1 0 0 2 0 1]\n",
      " [0 1 2 0 0 1]\n",
      " [0 0 0 0 0 1]\n",
      " [0 0 1 1 1 0]]\n",
      "[{0}, {1}, {2, 5}, {8, 3, 4}, {6}, {7}]\n",
      "[2, 3]\n"
     ]
    }
   ],
   "source": [
    "A = np.array([[0, 1, 1, 0, 0, 0, 0, 0, 0],\n",
    "              [1, 0, 0, 0, 1, 0, 0, 0, 0],\n",
    "              [1, 0, 0, 0, 1, 0, 0, 0, 0],\n",
    "              [0, 0, 0, 0, 1, 0, 0, 0, 0],\n",
    "              [0, 1, 1, 1, 0, 1, 0, 0, 0],\n",
    "              [0, 0, 0, 0, 1, 0, 0, 1, 0],\n",
    "              [0, 0, 0, 0, 0, 0, 0, 1, 0],\n",
    "              [0, 0, 0, 0, 0, 1, 1, 0, 1],\n",
    "              [0, 0, 0, 0, 0, 0, 0, 1, 0]])\n",
    "assert np.sum(A - A.T ==0), 'A not symmetrical.'\n",
    "X_meta = np.array([[1, 1, 0, 0, 0],\n",
    "                   [0, 0, 1, 1, 1]])\n",
    "meta_landmarks = np.array([2, 5, 3, 4, 8])\n",
    "num_landmarks = 2\n",
    "n = A.shape[0]\n",
    "\n",
    "node_sets = [{v} for v in np.arange(n)]\n",
    "nodes_to_remove = []\n",
    "for k in range(num_landmarks): # Iterate over all sets to merge\n",
    "    l_min = np.min(meta_landmarks[X_meta[k]==1]) # Index to keep\n",
    "    for l in meta_landmarks[X_meta[k]==1]: # Iterate over indices to merge\n",
    "        if l != l_min:\n",
    "            node_sets[l_min] = node_sets[l_min].union({l})\n",
    "            A[l_min] += A[l]\n",
    "            A[:, l_min] += A[l]\n",
    "            nodes_to_remove.append(l)\n",
    "np.fill_diagonal(A, 0)\n",
    "# Remove merged nodes from nodeset\n",
    "for node in nodes_to_remove:\n",
    "    node_sets.remove({node})\n",
    "# Find indices of new landmarks\n",
    "landmarks = []\n",
    "for i in range(len(node_sets)):\n",
    "    if len(set(meta_landmarks).intersection(node_sets[i])) != 0:\n",
    "        landmarks.append(i)\n",
    "# Remove merged nodes from adjacency matrix\n",
    "nodes_to_keep = list_minus(np.arange(n), nodes_to_remove)\n",
    "A = A[np.ix_(nodes_to_keep, nodes_to_keep)]   \n",
    "print(nodes_to_keep)\n",
    "print(A)\n",
    "print(node_sets)\n",
    "print(landmarks)"
   ]
  },
  {
   "cell_type": "code",
   "execution_count": 70,
   "metadata": {},
   "outputs": [],
   "source": [
    "def choose_neighbor_uniform(base_node, forbidden_neighbors, A):\n",
    "    allowed_neighbors = list_minus(np.where(A[base_node] > 0)[0], forbidden_neighbors)\n",
    "    neighbor = None\n",
    "    if len(allowed_neighbors) > 0:\n",
    "        neighbor = np.random.choice(a=allowed_neighbors)\n",
    "    return neighbor\n",
    "\n",
    "def choose_neighbor_weighted(base_node, forbidden_neighbors, A):\n",
    "    allowed_neighbors = list_minus(np.where(A[base_node] > 0)[0], forbidden_neighbors)\n",
    "    neighbor = None\n",
    "    if len(allowed_neighbors) > 0:\n",
    "        weights = A[base_node, allowed_neighbors]\n",
    "        neighbor = np.random.choice(a=allowed_neighbors, p=weights / weights.sum())\n",
    "    return neighbor\n",
    "\n",
    "def choose_neighbor_maxweight(base_node, forbidden_neighbors, A):\n",
    "    allowed_neighbors = list_minus(np.where(A[base_node] > 0)[0], forbidden_neighbors)\n",
    "    neighbor = None\n",
    "    if len(allowed_neighbors) > 0:\n",
    "        np.random.shuffle(allowed_neighbors)\n",
    "        weights = A[base_node, allowed_neighbors]\n",
    "        neighbor = allowed_neighbors[np.argmax(weights)]\n",
    "    return neighbor\n",
    "\n",
    "def merge_edge(base_node, node_to_merge, A, node_sets, landmarks):\n",
    "    # Update adjacency matrix\n",
    "    A[base_node] += A[node_to_merge]\n",
    "    A[:, base_node] += A[node_to_merge]\n",
    "    A[base_node, base_node] = 0\n",
    "    A = np.delete(A, node_to_merge, axis=0)\n",
    "    A = np.delete(A, node_to_merge, axis=1)\n",
    "    # Update node sets\n",
    "    node_sets[base_node] = node_sets[base_node].union(node_sets[node_to_merge])\n",
    "    del node_sets[node_to_merge]\n",
    "    # Update landmarks\n",
    "    landmarks = [l - (l > node_to_merge) for l in landmarks]\n",
    "    return A, node_sets, landmarks"
   ]
  },
  {
   "cell_type": "markdown",
   "metadata": {},
   "source": [
    "# Test on SBM"
   ]
  },
  {
   "cell_type": "code",
   "execution_count": 114,
   "metadata": {},
   "outputs": [],
   "source": [
    "sizes = np.array([150, 50, 50])\n",
    "p_within = .3\n",
    "p_between = .05\n",
    "p = p_between * np.ones((len(sizes), len(sizes)))\n",
    "np.fill_diagonal(p, p_within)\n",
    "G = nx.stochastic_block_model(sizes=sizes, p=p)\n",
    "A = nx.to_numpy_array(G)"
   ]
  },
  {
   "cell_type": "code",
   "execution_count": 89,
   "metadata": {},
   "outputs": [],
   "source": [
    "def diff_fractions(l):\n",
    "    return(np.abs(l[0] - l[1]))"
   ]
  },
  {
   "cell_type": "code",
   "execution_count": 90,
   "metadata": {},
   "outputs": [
    {
     "name": "stdout",
     "output_type": "stream",
     "text": [
      "Choosing strategy: Uniform\n",
      "num_landmarks=2: frac_diff=0.21333333333333337\n",
      "num_landmarks=20: frac_diff=0.18666666666666665\n",
      "num_landmarks=50: frac_diff=0.3466666666666667\n",
      "num_landmarks=100: frac_diff=0.7533333333333333\n",
      "Choosing strategy: Weighted\n",
      "num_landmarks=2: frac_diff=0.1333333333333333\n"
     ]
    },
    {
     "name": "stderr",
     "output_type": "stream",
     "text": [
      "/home/luca/anaconda3/lib/python3.7/site-packages/scipy/sparse/linalg/eigen/arpack/arpack.py:1572: RuntimeWarning: k >= N for N * N square matrix. Attempting to use scipy.linalg.eigh instead.\n",
      "  RuntimeWarning)\n"
     ]
    },
    {
     "name": "stdout",
     "output_type": "stream",
     "text": [
      "num_landmarks=20: frac_diff=0.2666666666666667\n",
      "num_landmarks=50: frac_diff=0.45333333333333325\n",
      "num_landmarks=100: frac_diff=0.64\n",
      "Choosing strategy: Max\n",
      "num_landmarks=2: frac_diff=0.0\n",
      "num_landmarks=20: frac_diff=0.053333333333333344\n",
      "num_landmarks=50: frac_diff=0.6933333333333332\n",
      "num_landmarks=100: frac_diff=0.7\n"
     ]
    }
   ],
   "source": [
    "names = ['Uniform', 'Weighted', 'Max']\n",
    "for j, choose_neighbor_fn in enumerate([choose_neighbor_uniform, choose_neighbor_weighted, choose_neighbor_maxweight]):\n",
    "    print(f'Choosing strategy: {names[j]}')\n",
    "    for num_landmarks in [2, 20, 50, 100]:\n",
    "        diff = []\n",
    "        for i in range(1):\n",
    "            x, node_sets = graph_growing_partition(A=A, num_landmarks=num_landmarks, \n",
    "                                                   choose_neighbor_fn=choose_neighbor_fn)\n",
    "            diff.append(diff_fractions(evaluate.evaluate_SBM_partition(x=x, sizes=sizes)))\n",
    "        print(f'num_landmarks={num_landmarks}: frac_diff={np.array(diff).mean()}')"
   ]
  },
  {
   "cell_type": "code",
   "execution_count": 96,
   "metadata": {},
   "outputs": [
    {
     "name": "stdout",
     "output_type": "stream",
     "text": [
      "num_landmarks: 2, fractions=0.272\n",
      "Node sets after coarsening: [[0.77, 0.23], [0.73, 0.27]]\n",
      "num_landmarks: 5, fractions=0.32533333333333336\n",
      "Node sets after coarsening: [[1.0, 0.0], [1.0, 0.0], [0.4, 0.6], [0.95, 0.05], [0.4, 0.6]]\n",
      "num_landmarks: 10, fractions=0.4960000000000001\n",
      "Node sets after coarsening: [[0.85, 0.15], [0.85, 0.15], [0.9, 0.1], [0.85, 0.15], [0.8, 0.2], [0.8, 0.2], [0.85, 0.15], [0.85, 0.15], [0.75, 0.25], [0.0, 1.0]]\n"
     ]
    }
   ],
   "source": [
    "for num_landmarks in [2, 5, 10]:\n",
    "    avg = []\n",
    "    for _ in range(10):\n",
    "        x, node_sets = graph_growing_partition(A=A, num_landmarks=num_landmarks, \n",
    "                                               choose_neighbor_fn=choose_neighbor_maxweight,\n",
    "                                               K=2)\n",
    "        avg.append(diff_fractions(evaluate.evaluate_SBM_partition(x=x, sizes=sizes)))\n",
    "    print(f'num_landmarks: {num_landmarks}, fractions={np.array(avg).mean()}')\n",
    "    print(f'Node sets after coarsening: {evaluate.evaluate_regions(node_sets=node_sets, sizes=sizes)}')"
   ]
  },
  {
   "cell_type": "code",
   "execution_count": 98,
   "metadata": {},
   "outputs": [
    {
     "name": "stdout",
     "output_type": "stream",
     "text": [
      "Help on function graph_growing_partition in module __main__:\n",
      "\n",
      "graph_growing_partition(A, num_landmarks, choose_neighbor_fn, num_meta_landmarks=False, K=2)\n",
      "    Compute K-way partition coarsening the input graph into growing regions.\n",
      "\n"
     ]
    }
   ],
   "source": [
    "help(graph_growing_partition)"
   ]
  },
  {
   "cell_type": "code",
   "execution_count": 115,
   "metadata": {},
   "outputs": [
    {
     "name": "stdout",
     "output_type": "stream",
     "text": [
      "num_meta_landmarks: 10\n",
      "num_landmarks: 2, fractions=[0.7, 0.48, 0.0]\n",
      "num_landmarks: 3, fractions=[0.7933333333333333, 1.0, 0.0]\n",
      "num_landmarks: 10, fractions=[0.11333333333333333, 0.2, 0.96]\n",
      "num_meta_landmarks: 20\n",
      "num_landmarks: 2, fractions=[0.6866666666666666, 0.12, 0.44]\n",
      "num_landmarks: 3, fractions=[0.02, 0.58, 0.98]\n",
      "num_landmarks: 10, fractions=[0.9533333333333334, 0.66, 1.0]\n",
      "num_meta_landmarks: 30\n",
      "num_landmarks: 2, fractions=[0.7266666666666667, 0.52, 0.0]\n",
      "num_landmarks: 3, fractions=[0.24666666666666667, 0.54, 0.28]\n",
      "num_landmarks: 10, fractions=[0.9866666666666667, 0.58, 1.0]\n",
      "num_meta_landmarks: 40\n",
      "num_landmarks: 2, fractions=[0.26666666666666666, 0.46, 1.0]\n",
      "num_landmarks: 3, fractions=[0.22, 0.26, 0.52]\n",
      "num_landmarks: 10, fractions=[0.9333333333333333, 0.32, 1.0]\n",
      "num_meta_landmarks: 50\n",
      "num_landmarks: 2, fractions=[0.7333333333333333, 0.12, 0.6]\n",
      "num_landmarks: 3, fractions=[0.16, 1.0, 0.0]\n",
      "num_landmarks: 10, fractions=[0.9, 0.4, 0.98]\n",
      "num_meta_landmarks: 60\n",
      "num_landmarks: 2, fractions=[0.7466666666666667, 0.08, 0.62]\n",
      "num_landmarks: 3, fractions=[0.8, 0.5, 0.72]\n",
      "num_landmarks: 10, fractions=[0.9666666666666667, 0.66, 1.0]\n"
     ]
    }
   ],
   "source": [
    "for num_meta_landmarks in [10, 20, 30, 40, 50, 60]:\n",
    "    print(f'num_meta_landmarks: {num_meta_landmarks}')\n",
    "    for num_landmarks in [2, 3, 10]:\n",
    "        x, node_sets = graph_growing_partition(A=A, num_landmarks=num_landmarks, \n",
    "                                               choose_neighbor_fn=choose_neighbor_maxweight,\n",
    "                                               K=2, num_meta_landmarks=num_meta_landmarks)\n",
    "        fractions = evaluate.evaluate_SBM_partition(x=x, sizes=sizes)\n",
    "        print(f'num_landmarks: {num_landmarks}, fractions={fractions}')\n",
    "#         print(f'Node sets after coarsening: {evaluate.evaluate_regions(node_sets=node_sets, sizes=sizes)}')"
   ]
  },
  {
   "cell_type": "code",
   "execution_count": 109,
   "metadata": {},
   "outputs": [
    {
     "name": "stdout",
     "output_type": "stream",
     "text": [
      "num_meta_landmarks: 10\n",
      "num_landmarks: 2, fractions=0.5453333333333333\n",
      "num_landmarks: 3, fractions=0.4126666666666667\n",
      "num_landmarks: 4, fractions=0.484\n",
      "num_landmarks: 5, fractions=0.5773333333333334\n",
      "num_landmarks: 10, fractions=0.5706666666666667\n",
      "num_meta_landmarks: 20\n",
      "num_landmarks: 2, fractions=0.6853333333333333\n",
      "num_landmarks: 3, fractions=0.3986666666666666\n",
      "num_landmarks: 4, fractions=0.42733333333333334\n",
      "num_landmarks: 5, fractions=0.5213333333333334\n",
      "num_landmarks: 10, fractions=0.6799999999999999\n",
      "num_meta_landmarks: 30\n",
      "num_landmarks: 2, fractions=0.7046666666666667\n",
      "num_landmarks: 3, fractions=0.5193333333333332\n",
      "num_landmarks: 4, fractions=0.3186666666666667\n",
      "num_landmarks: 5, fractions=0.27466666666666667\n",
      "num_landmarks: 10, fractions=0.32533333333333336\n",
      "num_meta_landmarks: 40\n",
      "num_landmarks: 2, fractions=0.7233333333333334\n",
      "num_landmarks: 3, fractions=0.6013333333333334\n",
      "num_landmarks: 4, fractions=0.39599999999999996\n",
      "num_landmarks: 5, fractions=0.23466666666666666\n",
      "num_landmarks: 10, fractions=0.1893333333333333\n",
      "num_meta_landmarks: 50\n",
      "num_landmarks: 2, fractions=0.7286666666666666\n",
      "num_landmarks: 3, fractions=0.4086666666666666\n",
      "num_landmarks: 4, fractions=0.33399999999999996\n",
      "num_landmarks: 5, fractions=0.2753333333333333\n",
      "num_landmarks: 10, fractions=0.20266666666666663\n",
      "num_meta_landmarks: 60\n",
      "num_landmarks: 2, fractions=0.7586666666666667\n",
      "num_landmarks: 3, fractions=0.5226666666666666\n",
      "num_landmarks: 4, fractions=0.33999999999999997\n",
      "num_landmarks: 5, fractions=0.26666666666666666\n",
      "num_landmarks: 10, fractions=0.19666666666666663\n"
     ]
    }
   ],
   "source": [
    "for num_meta_landmarks in [10, 20, 30, 40, 50, 60]:\n",
    "    print(f'num_meta_landmarks: {num_meta_landmarks}')\n",
    "    for num_landmarks in [2, 3, 4, 5, 10]:\n",
    "        avg = []\n",
    "        for _ in range(10):\n",
    "            x, node_sets = graph_growing_partition(A=A, num_landmarks=num_landmarks, \n",
    "                                                   choose_neighbor_fn=choose_neighbor_maxweight,\n",
    "                                                   K=2, num_meta_landmarks=num_meta_landmarks)\n",
    "            avg.append(diff_fractions(evaluate.evaluate_SBM_partition(x=x, sizes=sizes)))\n",
    "        print(f'num_landmarks: {num_landmarks}, fractions={np.array(avg).mean()}')\n",
    "#         print(f'Node sets after coarsening: {evaluate.evaluate_regions(node_sets=node_sets, sizes=sizes)}')"
   ]
  },
  {
   "cell_type": "code",
   "execution_count": 106,
   "metadata": {},
   "outputs": [
    {
     "name": "stdout",
     "output_type": "stream",
     "text": [
      "[7 0 4 1 8 9 6 3 5 2]\n"
     ]
    }
   ],
   "source": [
    "x = np.array(np.arange(10))\n",
    "np.random.shuffle(x)\n",
    "print(x)"
   ]
  },
  {
   "cell_type": "code",
   "execution_count": 117,
   "metadata": {},
   "outputs": [
    {
     "name": "stdout",
     "output_type": "stream",
     "text": [
      "num_landmarks: 3, fractions=0.4446666666666667\n",
      "num_landmarks: 10, fractions=0.39866666666666667\n",
      "num_landmarks: 50, fractions=0.8306666666666667\n",
      "num_landmarks: 100, fractions=0.728\n"
     ]
    }
   ],
   "source": [
    "for num_landmarks in [3, 10, 50, 100]:\n",
    "    avg = []\n",
    "    for _ in range(2):\n",
    "        x, node_sets = graph_growing_partition(A=A, num_landmarks=num_landmarks, \n",
    "                                               choose_neighbor_fn=choose_neighbor_maxweight,\n",
    "                                               K=2)\n",
    "        avg.append(diff_fractions(evaluate.evaluate_SBM_partition(x=x, sizes=sizes)))\n",
    "    print(f'num_landmarks: {num_landmarks}, fractions={np.array(avg).mean()}')"
   ]
  },
  {
   "cell_type": "code",
   "execution_count": 68,
   "metadata": {},
   "outputs": [
    {
     "data": {
      "text/plain": [
       "[[0.7575, 0.2425], [0.78, 0.22], [0.755, 0.245], [0.7575, 0.2425], [0.7, 0.3]]"
      ]
     },
     "execution_count": 68,
     "metadata": {},
     "output_type": "execute_result"
    }
   ],
   "source": [
    "evaluate.evaluate_regions(node_sets=node_sets, sizes=sizes)"
   ]
  }
 ],
 "metadata": {
  "kernelspec": {
   "display_name": "Python 3",
   "language": "python",
   "name": "python3"
  },
  "language_info": {
   "codemirror_mode": {
    "name": "ipython",
    "version": 3
   },
   "file_extension": ".py",
   "mimetype": "text/x-python",
   "name": "python",
   "nbconvert_exporter": "python",
   "pygments_lexer": "ipython3",
   "version": "3.7.3"
  }
 },
 "nbformat": 4,
 "nbformat_minor": 2
}
