{
 "cells": [
  {
   "cell_type": "code",
   "execution_count": 1,
   "metadata": {},
   "outputs": [],
   "source": [
    "import numpy as np\n",
    "import networkx as nx\n",
    "import matplotlib.pyplot as plt\n",
    "import random"
   ]
  },
  {
   "cell_type": "markdown",
   "metadata": {},
   "source": [
    "Graph $(V, E)$ with nodes $v\\subset\\mathbb{N}$ as subsets of integers\n",
    "Strategy for merging:\n",
    "1. Draw a set of edges $F\\subseteq E$ somehow\n",
    "2. Identify connected components $\\mathcal{C}=\\{C_1,\\dotsc, C_k\\}$ of $(V, F)$. They form the new set of nodes\n",
    "3. Compute new adjacency matrix $A^\\prime$ by summing entries of $A$ blockwise "
   ]
  },
  {
   "cell_type": "markdown",
   "metadata": {},
   "source": [
    "#### Rule of thumb for choosing temperature $\\tau$:\n",
    "If there are $m$ edges in an unweighted graph, the amount of chosen edges is distrubted as Bin($e$, $n^{-\\tau}$). Therefore, the expected number of chosen edges is $n^{1-\\tau}$, and a choice of \n",
    "$$\n",
    "\\tau=\\frac{\\log(2)}{\\log(m)}\n",
    "$$\n",
    "leads to $m/2$ in expectation."
   ]
  },
  {
   "cell_type": "code",
   "execution_count": 23,
   "metadata": {},
   "outputs": [],
   "source": [
    "class FindCuts(object):\n",
    "    def __init__(self, A, sample_fn, partition_fn):\n",
    "        self.A = A\n",
    "        self.V = [{i} for i in range(nx.number_of_nodes(G))]\n",
    "        self.sample_fn = sample_fn\n",
    "        self.partition_fn = partition_fn\n",
    "    \n",
    "    def _merge_nodes(self, V, component):\n",
    "        \"\"\" Merge the sets of V that are indexed in component.\"\"\"\n",
    "        merged_node = set({})\n",
    "        for idx in component:\n",
    "            merged_node = merged_node.union(V[idx])\n",
    "        return merged_node\n",
    "    \n",
    "    def _merge_edges(self, V, A, A_sampled):\n",
    "        \"\"\" Merge edges in A_sampled to obtain a new graph.\"\"\"\n",
    "        G_sampled = nx.from_numpy_array(A_sampled)\n",
    "        connected_components = list(nx.connected_components(G_sampled))\n",
    "        V_coarse = [self._merge_nodes(V, component) for component in connected_components]\n",
    "        n_coarse = len(V_coarse)\n",
    "        A_coarse = np.zeros((n_coarse, n_coarse))\n",
    "        for i in range(n_coarse):\n",
    "            for j in range(i+1, n_coarse):\n",
    "                for v in connected_components[i]:\n",
    "                    for w in connected_components[j]:\n",
    "                        A_coarse[i, j] += A[v, w] \n",
    "        A_coarse += A_coarse.T\n",
    "        return V_coarse, A_coarse\n",
    "    \n",
    "    def get_cuts(self, T):\n",
    "        \"\"\" T: number of partitions\"\"\"\n",
    "        V = self.V\n",
    "        A = self.A\n",
    "        for t in range(T):\n",
    "            A_sampled = self.sample_fn(A)\n",
    "            V, A = self._merge_edges(V, A, A_sampled)\n",
    "            P = self.partition_fn(V, A)\n",
    "            print(P)\n",
    "        return"
   ]
  },
  {
   "cell_type": "code",
   "execution_count": 15,
   "metadata": {},
   "outputs": [],
   "source": [
    "def sample_edges(A, temperature=.7):\n",
    "    \"\"\" Sample each edge with a probability, scaled by the temperature.\n",
    "    Returns new edges in form of adjacency matrix\"\"\"\n",
    "    edges_idx = np.triu_indices_from(A, k=1)\n",
    "    edge_probs = (A[edges_idx] / A[edges_idx].sum())**temperature\n",
    "    sampled_edges = np.random.binomial(n=1, p=edge_probs)\n",
    "    is_sampled = (sampled_edges == 1)\n",
    "    sampled_edges_idx = (edges_idx[0][is_sampled], edges_idx[1][is_sampled])\n",
    "    A_sampled = np.zeros_like(A)\n",
    "    A_sampled[sampled_edges_idx] = 1\n",
    "    A_sampled += A_sampled.T\n",
    "    return A_sampled\n",
    "\n",
    "def partition(V, A):\n",
    "    return np.sort([len(v) for v in V])[::-1]"
   ]
  },
  {
   "cell_type": "markdown",
   "metadata": {},
   "source": [
    "### Example: Stochastical Block model"
   ]
  },
  {
   "cell_type": "code",
   "execution_count": 17,
   "metadata": {},
   "outputs": [
    {
     "name": "stdout",
     "output_type": "stream",
     "text": [
      "Original graph: 100 nodes\n",
      "[{0}, {1}, {2}, {3}, {4}, {5}, {6}, {7}, {8}, {9}, {10}, {11}, {12}, {13}, {14}, {15}, {16}, {17}, {18}, {19}, {20}, {21}, {22}, {23}, {24}, {25}, {26}, {27}, {28}, {29}, {30}, {31}, {32}, {33}, {34}, {35}, {36}, {37}, {38}, {39}, {40}, {41}, {42}, {43}, {44}, {45}, {46}, {47}, {48}, {49}, {50}, {51}, {52}, {53}, {54}, {55}, {56}, {57}, {58}, {59}, {60}, {61}, {62}, {63}, {64}, {65}, {66}, {67}, {68}, {69}, {70}, {71}, {72}, {73}, {74}, {75}, {76}, {77}, {78}, {79}, {80}, {81}, {82}, {83}, {84}, {85}, {86}, {87}, {88}, {89}, {90}, {91}, {92}, {93}, {94}, {95}, {96}, {97}, {98}, {99}]\n",
      "[[0. 0. 1. ... 0. 0. 0.]\n",
      " [0. 0. 1. ... 0. 0. 0.]\n",
      " [1. 1. 0. ... 1. 0. 0.]\n",
      " ...\n",
      " [0. 0. 1. ... 0. 1. 0.]\n",
      " [0. 0. 0. ... 1. 0. 1.]\n",
      " [0. 0. 0. ... 0. 1. 0.]]\n"
     ]
    }
   ],
   "source": [
    "G = nx.stochastic_block_model(sizes=[50, 50], p=[[.8, .1],\n",
    "                                                 [.1, .8]])\n",
    "A = nx.to_numpy_array(G)\n",
    "V = [{i} for i in range(A.shape[0])]\n",
    "\n",
    "print(f'Original graph: {len(V)} nodes')\n",
    "print(V)\n",
    "print(A)"
   ]
  },
  {
   "cell_type": "code",
   "execution_count": 28,
   "metadata": {},
   "outputs": [
    {
     "name": "stdout",
     "output_type": "stream",
     "text": [
      "[4 4 3 3 2 2 2 2 2 1 1 1 1 1 1 1 1 1 1 1 1 1 1 1 1 1 1 1 1 1 1 1 1 1 1 1 1\n",
      " 1 1 1 1 1 1 1 1 1 1 1 1 1 1 1 1 1 1 1 1 1 1 1 1 1 1 1 1 1 1 1 1 1 1 1 1 1\n",
      " 1 1 1 1 1 1 1 1 1 1 1]\n",
      "[5 5 4 4 3 3 3 3 2 2 2 2 1 1 1 1 1 1 1 1 1 1 1 1 1 1 1 1 1 1 1 1 1 1 1 1 1\n",
      " 1 1 1 1 1 1 1 1 1 1 1 1 1 1 1 1 1 1 1 1 1 1 1 1 1 1 1 1 1 1 1 1 1 1 1 1 1]\n",
      "[7 6 5 4 3 3 3 2 2 2 2 2 2 2 2 1 1 1 1 1 1 1 1 1 1 1 1 1 1 1 1 1 1 1 1 1 1\n",
      " 1 1 1 1 1 1 1 1 1 1 1 1 1 1 1 1 1 1 1 1 1 1 1 1 1 1 1 1 1 1 1]\n",
      "[9 8 5 4 3 3 3 2 2 2 2 2 2 2 2 1 1 1 1 1 1 1 1 1 1 1 1 1 1 1 1 1 1 1 1 1 1\n",
      " 1 1 1 1 1 1 1 1 1 1 1 1 1 1 1 1 1 1 1 1 1 1 1 1 1 1 1]\n",
      "[9 8 5 5 4 3 3 3 3 2 2 2 2 2 2 2 1 1 1 1 1 1 1 1 1 1 1 1 1 1 1 1 1 1 1 1 1\n",
      " 1 1 1 1 1 1 1 1 1 1 1 1 1 1 1 1 1 1 1 1 1 1]\n",
      "[9 9 9 5 4 3 3 3 2 2 2 2 2 2 2 2 1 1 1 1 1 1 1 1 1 1 1 1 1 1 1 1 1 1 1 1 1\n",
      " 1 1 1 1 1 1 1 1 1 1 1 1 1 1 1 1 1 1]\n",
      "[24  9  7  4  4  4  3  2  2  2  2  2  1  1  1  1  1  1  1  1  1  1  1  1\n",
      "  1  1  1  1  1  1  1  1  1  1  1  1  1  1  1  1  1  1  1  1  1  1  1]\n",
      "[44  7  7  4  2  2  2  2  2  2  1  1  1  1  1  1  1  1  1  1  1  1  1  1\n",
      "  1  1  1  1  1  1  1  1  1  1  1  1]\n",
      "[45  9  7  5  4  2  2  2  1  1  1  1  1  1  1  1  1  1  1  1  1  1  1  1\n",
      "  1  1  1  1  1  1  1  1]\n",
      "[58  7  5  4  3  2  2  1  1  1  1  1  1  1  1  1  1  1  1  1  1  1  1  1\n",
      "  1  1]\n",
      "[65  7  5  2  2  1  1  1  1  1  1  1  1  1  1  1  1  1  1  1  1  1  1  1]\n",
      "[73  5  2  2  2  1  1  1  1  1  1  1  1  1  1  1  1  1  1  1  1]\n",
      "[82  5  2  1  1  1  1  1  1  1  1  1  1  1]\n",
      "[82  5  2  1  1  1  1  1  1  1  1  1  1  1]\n",
      "[84  5  2  1  1  1  1  1  1  1  1  1]\n",
      "[90  2  1  1  1  1  1  1  1  1]\n",
      "[93  1  1  1  1  1  1  1]\n",
      "[94  1  1  1  1  1  1]\n",
      "[97  1  1  1]\n",
      "[99  1]\n",
      "[100]\n",
      "[100]\n",
      "[100]\n",
      "[100]\n",
      "[100]\n",
      "[100]\n",
      "[100]\n",
      "[100]\n",
      "[100]\n",
      "[100]\n"
     ]
    }
   ],
   "source": [
    "findCuts = FindCuts(A=A, sample_fn=sample_edges, partition_fn=partition)\n",
    "findCuts.get_cuts(T=30)"
   ]
  }
 ],
 "metadata": {
  "kernelspec": {
   "display_name": "Python 3",
   "language": "python",
   "name": "python3"
  },
  "language_info": {
   "codemirror_mode": {
    "name": "ipython",
    "version": 3
   },
   "file_extension": ".py",
   "mimetype": "text/x-python",
   "name": "python",
   "nbconvert_exporter": "python",
   "pygments_lexer": "ipython3",
   "version": "3.7.3"
  }
 },
 "nbformat": 4,
 "nbformat_minor": 2
}
