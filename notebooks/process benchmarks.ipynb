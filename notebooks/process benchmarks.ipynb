{
 "cells": [
  {
   "cell_type": "code",
   "execution_count": 1,
   "metadata": {},
   "outputs": [],
   "source": [
    "%load_ext autoreload\n",
    "%autoreload 2\n",
    "%matplotlib inline"
   ]
  },
  {
   "cell_type": "code",
   "execution_count": 2,
   "metadata": {},
   "outputs": [],
   "source": [
    "import project_path\n",
    "\n",
    "import glob\n",
    "import os\n",
    "import random\n",
    "\n",
    "from pathlib import Path\n",
    "from itertools import product\n",
    "\n",
    "import pandas as pd"
   ]
  },
  {
   "cell_type": "code",
   "execution_count": 3,
   "metadata": {},
   "outputs": [
    {
     "data": {
      "text/html": [
       "<div>\n",
       "<style scoped>\n",
       "    .dataframe tbody tr th:only-of-type {\n",
       "        vertical-align: middle;\n",
       "    }\n",
       "\n",
       "    .dataframe tbody tr th {\n",
       "        vertical-align: top;\n",
       "    }\n",
       "\n",
       "    .dataframe thead th {\n",
       "        text-align: right;\n",
       "    }\n",
       "</style>\n",
       "<table border=\"1\" class=\"dataframe\">\n",
       "  <thead>\n",
       "    <tr style=\"text-align: right;\">\n",
       "      <th></th>\n",
       "      <th>dataset_name</th>\n",
       "      <th>Adjusted Rand Score</th>\n",
       "      <th>method</th>\n",
       "      <th>seed</th>\n",
       "    </tr>\n",
       "  </thead>\n",
       "  <tbody>\n",
       "    <tr>\n",
       "      <th>0</th>\n",
       "      <td>cancer</td>\n",
       "      <td>0.491425</td>\n",
       "      <td>KMeans</td>\n",
       "      <td>70</td>\n",
       "    </tr>\n",
       "    <tr>\n",
       "      <th>1</th>\n",
       "      <td>cancer</td>\n",
       "      <td>0.287246</td>\n",
       "      <td>Ward</td>\n",
       "      <td>70</td>\n",
       "    </tr>\n",
       "    <tr>\n",
       "      <th>2</th>\n",
       "      <td>moons_low_nose</td>\n",
       "      <td>0.254221</td>\n",
       "      <td>Spectral Custering</td>\n",
       "      <td>70</td>\n",
       "    </tr>\n",
       "    <tr>\n",
       "      <th>3</th>\n",
       "      <td>moons_low_nose</td>\n",
       "      <td>0.208960</td>\n",
       "      <td>KMeans</td>\n",
       "      <td>70</td>\n",
       "    </tr>\n",
       "    <tr>\n",
       "      <th>4</th>\n",
       "      <td>moons_low_nose</td>\n",
       "      <td>0.442788</td>\n",
       "      <td>Ward</td>\n",
       "      <td>70</td>\n",
       "    </tr>\n",
       "    <tr>\n",
       "      <th>...</th>\n",
       "      <td>...</td>\n",
       "      <td>...</td>\n",
       "      <td>...</td>\n",
       "      <td>...</td>\n",
       "    </tr>\n",
       "    <tr>\n",
       "      <th>195</th>\n",
       "      <td>blobs_4_low_nose</td>\n",
       "      <td>0.923647</td>\n",
       "      <td>KMeans</td>\n",
       "      <td>80</td>\n",
       "    </tr>\n",
       "    <tr>\n",
       "      <th>196</th>\n",
       "      <td>blobs_4_low_nose</td>\n",
       "      <td>0.400643</td>\n",
       "      <td>Ward</td>\n",
       "      <td>80</td>\n",
       "    </tr>\n",
       "    <tr>\n",
       "      <th>197</th>\n",
       "      <td>blobs_4_high_nose</td>\n",
       "      <td>0.912502</td>\n",
       "      <td>Spectral Custering</td>\n",
       "      <td>80</td>\n",
       "    </tr>\n",
       "    <tr>\n",
       "      <th>198</th>\n",
       "      <td>blobs_4_high_nose</td>\n",
       "      <td>0.923647</td>\n",
       "      <td>KMeans</td>\n",
       "      <td>80</td>\n",
       "    </tr>\n",
       "    <tr>\n",
       "      <th>199</th>\n",
       "      <td>blobs_4_high_nose</td>\n",
       "      <td>0.400643</td>\n",
       "      <td>Ward</td>\n",
       "      <td>80</td>\n",
       "    </tr>\n",
       "  </tbody>\n",
       "</table>\n",
       "<p>200 rows × 4 columns</p>\n",
       "</div>"
      ],
      "text/plain": [
       "          dataset_name  Adjusted Rand Score              method  seed\n",
       "0               cancer             0.491425              KMeans    70\n",
       "1               cancer             0.287246                Ward    70\n",
       "2       moons_low_nose             0.254221  Spectral Custering    70\n",
       "3       moons_low_nose             0.208960              KMeans    70\n",
       "4       moons_low_nose             0.442788                Ward    70\n",
       "..                 ...                  ...                 ...   ...\n",
       "195   blobs_4_low_nose             0.923647              KMeans    80\n",
       "196   blobs_4_low_nose             0.400643                Ward    80\n",
       "197  blobs_4_high_nose             0.912502  Spectral Custering    80\n",
       "198  blobs_4_high_nose             0.923647              KMeans    80\n",
       "199  blobs_4_high_nose             0.400643                Ward    80\n",
       "\n",
       "[200 rows x 4 columns]"
      ]
     },
     "execution_count": 3,
     "metadata": {},
     "output_type": "execute_result"
    }
   ],
   "source": [
    "df_others = pd.read_csv('../results/benchmarks/other_algorithms.csv')\n",
    "df_others"
   ]
  },
  {
   "cell_type": "code",
   "execution_count": 4,
   "metadata": {},
   "outputs": [],
   "source": [
    "mean = df_others.groupby(['method', 'dataset_name']).mean().round(2)\n",
    "std = df_others.groupby(['method', 'dataset_name']).std().round(2)"
   ]
  },
  {
   "cell_type": "code",
   "execution_count": 5,
   "metadata": {},
   "outputs": [],
   "source": [
    "std.reset_index().pivot(index='dataset_name',columns='method', values='Adjusted Rand Score').to_latex('table_resuts.tex')"
   ]
  },
  {
   "cell_type": "code",
   "execution_count": 6,
   "metadata": {},
   "outputs": [],
   "source": [
    "mean.to_latex('table.tex')"
   ]
  },
  {
   "cell_type": "code",
   "execution_count": 10,
   "metadata": {},
   "outputs": [],
   "source": [
    "path_results = Path('../results/benchmarks/')"
   ]
  },
  {
   "cell_type": "code",
   "execution_count": 11,
   "metadata": {},
   "outputs": [
    {
     "data": {
      "text/plain": [
       "[' cancer_20_bins.csv',\n",
       " ' 2_gaussian_blobs_sigma_1.5_binning.csv',\n",
       " ' Moons high noise.csv',\n",
       " ' Moons_noise0.2.csv',\n",
       " ' 4_gaussian_blobs_sigma_1_binning.csv',\n",
       " ' cancer_10_bins.csv',\n",
       " ' 4_gaussian_blobs_sigma_1.5_binning.csv',\n",
       " ' 2_gaussian_blobs_sigma_1_binning.csv']"
      ]
     },
     "execution_count": 11,
     "metadata": {},
     "output_type": "execute_result"
    }
   ],
   "source": [
    "means, stds = [], []\n",
    "exps = []\n",
    "for exp in os.listdir(path_results):\n",
    "    if exp != 'other_algorithms.csv':\n",
    "        exps.append(exp)\n",
    "        df = pd.read_csv(path_results / f'{exp}', index_col=0).reset_index(drop=True)[['seed', 'Adjusted Rand Score']]\n",
    "        means.append(df.mean()['Adjusted Rand Score'].round(2))\n",
    "        stds.append(df.std()['Adjusted Rand Score'].round(2))\n",
    "exps"
   ]
  },
  {
   "cell_type": "code",
   "execution_count": 12,
   "metadata": {},
   "outputs": [
    {
     "data": {
      "text/plain": [
       "[0.74, 0.75, 0.31, 0.31, 0.82, 0.75, 0.38, 0.99]"
      ]
     },
     "execution_count": 12,
     "metadata": {},
     "output_type": "execute_result"
    }
   ],
   "source": [
    "means"
   ]
  },
  {
   "cell_type": "code",
   "execution_count": null,
   "metadata": {},
   "outputs": [],
   "source": [
    "pd.read_csv('../results/benchmarks/other_algorithms.csv')"
   ]
  }
 ],
 "metadata": {
  "kernelspec": {
   "display_name": "tangles",
   "language": "python",
   "name": "tangles"
  },
  "language_info": {
   "codemirror_mode": {
    "name": "ipython",
    "version": 3
   },
   "file_extension": ".py",
   "mimetype": "text/x-python",
   "name": "python",
   "nbconvert_exporter": "python",
   "pygments_lexer": "ipython3",
   "version": "3.7.7"
  }
 },
 "nbformat": 4,
 "nbformat_minor": 4
}
