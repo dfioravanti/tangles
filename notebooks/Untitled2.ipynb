{
 "cells": [
  {
   "cell_type": "code",
   "execution_count": 5,
   "metadata": {},
   "outputs": [],
   "source": [
    "%load_ext autoreload\n",
    "%autoreload 2"
   ]
  },
  {
   "cell_type": "code",
   "execution_count": 1,
   "metadata": {},
   "outputs": [],
   "source": [
    "import project_path"
   ]
  },
  {
   "cell_type": "code",
   "execution_count": 9,
   "metadata": {},
   "outputs": [],
   "source": [
    "import numpy as np\n",
    "import pandas as pd\n",
    "from pathlib import Path\n",
    "from src.datasets.retinal import load_RETINAL"
   ]
  },
  {
   "cell_type": "code",
   "execution_count": 3,
   "metadata": {},
   "outputs": [],
   "source": [
    "path = Path('..')"
   ]
  },
  {
   "cell_type": "code",
   "execution_count": 35,
   "metadata": {},
   "outputs": [],
   "source": [
    "xs, ys = load_RETINAL(root_path=path, nb_bins=False, max_idx=40)"
   ]
  },
  {
   "cell_type": "code",
   "execution_count": 36,
   "metadata": {},
   "outputs": [
    {
     "data": {
      "text/plain": [
       "17    206\n",
       "18    191\n",
       "25    171\n",
       "23    169\n",
       "2     162\n",
       "37    152\n",
       "16    151\n",
       "20    150\n",
       "14    149\n",
       "1     143\n",
       "36    141\n",
       "5     136\n",
       "40    130\n",
       "19    129\n",
       "30    125\n",
       "33    113\n",
       "27    106\n",
       "9     104\n",
       "10    100\n",
       "24     99\n",
       "22     99\n",
       "31     98\n",
       "21     97\n",
       "29     95\n",
       "3      86\n",
       "32     85\n",
       "35     76\n",
       "13     68\n",
       "15     66\n",
       "26     65\n",
       "38     60\n",
       "4      50\n",
       "11     49\n",
       "34     44\n",
       "6      44\n",
       "39     40\n",
       "28     36\n",
       "7      34\n",
       "12     31\n",
       "8      25\n",
       "Name: label, dtype: int64"
      ]
     },
     "execution_count": 36,
     "metadata": {},
     "output_type": "execute_result"
    }
   ],
   "source": [
    "df = pd.DataFrame(ys, columns=['label'])\n",
    "df['label'].value_counts()"
   ]
  },
  {
   "cell_type": "code",
   "execution_count": 8,
   "metadata": {},
   "outputs": [
    {
     "data": {
      "text/plain": [
       "array([[10,  4,  6, ...,  2,  3,  2],\n",
       "       [ 9,  4,  8, ...,  4,  3,  6],\n",
       "       [ 2,  5,  6, ...,  4,  6,  2],\n",
       "       ...,\n",
       "       [ 1,  9,  6, ...,  7,  7,  7],\n",
       "       [ 6,  8,  7, ...,  5,  7,  1],\n",
       "       [ 9,  4,  7, ..., 10,  2,  1]])"
      ]
     },
     "execution_count": 8,
     "metadata": {},
     "output_type": "execute_result"
    }
   ],
   "source": [
    "xs"
   ]
  },
  {
   "cell_type": "code",
   "execution_count": null,
   "metadata": {},
   "outputs": [],
   "source": []
  }
 ],
 "metadata": {
  "kernelspec": {
   "display_name": "tangles",
   "language": "python",
   "name": "tangles"
  },
  "language_info": {
   "codemirror_mode": {
    "name": "ipython",
    "version": 3
   },
   "file_extension": ".py",
   "mimetype": "text/x-python",
   "name": "python",
   "nbconvert_exporter": "python",
   "pygments_lexer": "ipython3",
   "version": "3.7.7"
  }
 },
 "nbformat": 4,
 "nbformat_minor": 4
}
