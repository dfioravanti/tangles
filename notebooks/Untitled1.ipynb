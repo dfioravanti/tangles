{
 "cells": [
  {
   "cell_type": "code",
   "execution_count": 1,
   "metadata": {},
   "outputs": [],
   "source": [
    "import numpy as np"
   ]
  },
  {
   "cell_type": "code",
   "execution_count": 10,
   "metadata": {},
   "outputs": [
    {
     "output_type": "execute_result",
     "data": {
      "text/plain": "array([[-0.79091062, 10.18242858, 21.34121946],\n       [-1.04552748,  8.44179827, 19.44982357],\n       [ 1.62790255,  9.43057505, 20.24363458],\n       [-0.7170906 , 11.24924947, 22.05020266]])"
     },
     "metadata": {},
     "execution_count": 10
    }
   ],
   "source": [
    "np.random.normal(loc=(0,10,20), size=(4, 3))"
   ]
  },
  {
   "cell_type": "code",
   "execution_count": null,
   "metadata": {},
   "outputs": [],
   "source": []
  }
 ],
 "metadata": {
  "kernelspec": {
   "name": "tangles",
   "display_name": "tangles"
  }
 },
 "nbformat": 4,
 "nbformat_minor": 4
}