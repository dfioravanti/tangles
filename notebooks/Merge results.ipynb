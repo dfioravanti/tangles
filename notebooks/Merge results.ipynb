{
 "cells": [
  {
   "cell_type": "markdown",
   "metadata": {},
   "source": [
    "### Allow relative imports"
   ]
  },
  {
   "cell_type": "code",
   "execution_count": 1,
   "metadata": {},
   "outputs": [],
   "source": [
    "%load_ext autoreload\n",
    "%autoreload 2\n",
    "%matplotlib inline"
   ]
  },
  {
   "cell_type": "code",
   "execution_count": 2,
   "metadata": {},
   "outputs": [],
   "source": [
    "import project_path\n",
    "\n",
    "import glob\n",
    "import os\n",
    "import random\n",
    "\n",
    "from pathlib import Path\n",
    "from itertools import product\n",
    "\n",
    "import pandas as pd"
   ]
  },
  {
   "cell_type": "code",
   "execution_count": 3,
   "metadata": {},
   "outputs": [],
   "source": [
    "def merge_csv(path):\n",
    "    path_temp = Path(f'/tmp/{random.randint(10, 10000)}.csv').resolve()\n",
    "\n",
    "    is_first_file = True    \n",
    "    with open(path_temp,\"wb\") as output_file:\n",
    "        for subdir, dirs, files in os.walk(path):\n",
    "            for file in files:\n",
    "                input_path = f'{subdir}/{file}'\n",
    "                if is_first_file:\n",
    "                    is_first_file = False\n",
    "                    with open(input_path, \"rb\") as input_file:\n",
    "                        output_file.write(input_file.read())\n",
    "                else:\n",
    "                    with open(input_path, \"rb\") as input_file:\n",
    "                        next(input_file)\n",
    "                        output_file.write(input_file.read())\n",
    "                        \n",
    "    return path_temp"
   ]
  },
  {
   "cell_type": "code",
   "execution_count": 4,
   "metadata": {},
   "outputs": [],
   "source": [
    "path_in = Path(f'../raw_results/benchmarks/').resolve()\n",
    "path_out = Path(f'../results/benchmarks/').resolve()\n",
    "path_out.mkdir(parents=True, exist_ok=True)\n",
    "path_out = path_out / 'other_algorithms.csv'"
   ]
  },
  {
   "cell_type": "code",
   "execution_count": 5,
   "metadata": {},
   "outputs": [],
   "source": [
    "path_temp = merge_csv(path_in)"
   ]
  },
  {
   "cell_type": "code",
   "execution_count": 6,
   "metadata": {},
   "outputs": [
    {
     "data": {
      "text/html": [
       "<div>\n",
       "<style scoped>\n",
       "    .dataframe tbody tr th:only-of-type {\n",
       "        vertical-align: middle;\n",
       "    }\n",
       "\n",
       "    .dataframe tbody tr th {\n",
       "        vertical-align: top;\n",
       "    }\n",
       "\n",
       "    .dataframe thead th {\n",
       "        text-align: right;\n",
       "    }\n",
       "</style>\n",
       "<table border=\"1\" class=\"dataframe\">\n",
       "  <thead>\n",
       "    <tr style=\"text-align: right;\">\n",
       "      <th></th>\n",
       "      <th>dataset_name</th>\n",
       "      <th>Adjusted Rand Score</th>\n",
       "      <th>method</th>\n",
       "      <th>seed</th>\n",
       "    </tr>\n",
       "  </thead>\n",
       "  <tbody>\n",
       "    <tr>\n",
       "      <th>0</th>\n",
       "      <td>cancer</td>\n",
       "      <td>0.491425</td>\n",
       "      <td>KMeans</td>\n",
       "      <td>70</td>\n",
       "    </tr>\n",
       "    <tr>\n",
       "      <th>1</th>\n",
       "      <td>cancer</td>\n",
       "      <td>0.287246</td>\n",
       "      <td>Ward</td>\n",
       "      <td>70</td>\n",
       "    </tr>\n",
       "    <tr>\n",
       "      <th>2</th>\n",
       "      <td>moons_low_nose</td>\n",
       "      <td>0.254221</td>\n",
       "      <td>Spectral Custering</td>\n",
       "      <td>70</td>\n",
       "    </tr>\n",
       "    <tr>\n",
       "      <th>3</th>\n",
       "      <td>moons_low_nose</td>\n",
       "      <td>0.208960</td>\n",
       "      <td>KMeans</td>\n",
       "      <td>70</td>\n",
       "    </tr>\n",
       "    <tr>\n",
       "      <th>4</th>\n",
       "      <td>moons_low_nose</td>\n",
       "      <td>0.442788</td>\n",
       "      <td>Ward</td>\n",
       "      <td>70</td>\n",
       "    </tr>\n",
       "    <tr>\n",
       "      <th>...</th>\n",
       "      <td>...</td>\n",
       "      <td>...</td>\n",
       "      <td>...</td>\n",
       "      <td>...</td>\n",
       "    </tr>\n",
       "    <tr>\n",
       "      <th>195</th>\n",
       "      <td>blobs_4_low_nose</td>\n",
       "      <td>0.923647</td>\n",
       "      <td>KMeans</td>\n",
       "      <td>80</td>\n",
       "    </tr>\n",
       "    <tr>\n",
       "      <th>196</th>\n",
       "      <td>blobs_4_low_nose</td>\n",
       "      <td>0.400643</td>\n",
       "      <td>Ward</td>\n",
       "      <td>80</td>\n",
       "    </tr>\n",
       "    <tr>\n",
       "      <th>197</th>\n",
       "      <td>blobs_4_high_nose</td>\n",
       "      <td>0.912502</td>\n",
       "      <td>Spectral Custering</td>\n",
       "      <td>80</td>\n",
       "    </tr>\n",
       "    <tr>\n",
       "      <th>198</th>\n",
       "      <td>blobs_4_high_nose</td>\n",
       "      <td>0.923647</td>\n",
       "      <td>KMeans</td>\n",
       "      <td>80</td>\n",
       "    </tr>\n",
       "    <tr>\n",
       "      <th>199</th>\n",
       "      <td>blobs_4_high_nose</td>\n",
       "      <td>0.400643</td>\n",
       "      <td>Ward</td>\n",
       "      <td>80</td>\n",
       "    </tr>\n",
       "  </tbody>\n",
       "</table>\n",
       "<p>200 rows × 4 columns</p>\n",
       "</div>"
      ],
      "text/plain": [
       "          dataset_name  Adjusted Rand Score              method  seed\n",
       "0               cancer             0.491425              KMeans    70\n",
       "1               cancer             0.287246                Ward    70\n",
       "2       moons_low_nose             0.254221  Spectral Custering    70\n",
       "3       moons_low_nose             0.208960              KMeans    70\n",
       "4       moons_low_nose             0.442788                Ward    70\n",
       "..                 ...                  ...                 ...   ...\n",
       "195   blobs_4_low_nose             0.923647              KMeans    80\n",
       "196   blobs_4_low_nose             0.400643                Ward    80\n",
       "197  blobs_4_high_nose             0.912502  Spectral Custering    80\n",
       "198  blobs_4_high_nose             0.923647              KMeans    80\n",
       "199  blobs_4_high_nose             0.400643                Ward    80\n",
       "\n",
       "[200 rows x 4 columns]"
      ]
     },
     "execution_count": 6,
     "metadata": {},
     "output_type": "execute_result"
    }
   ],
   "source": [
    "experiment_df = pd.read_csv(path_temp).reset_index(drop=True)\n",
    "experiment_df"
   ]
  },
  {
   "cell_type": "code",
   "execution_count": 7,
   "metadata": {},
   "outputs": [],
   "source": [
    "experiment_df.to_csv(path_out, index=None)"
   ]
  },
  {
   "cell_type": "code",
   "execution_count": 8,
   "metadata": {},
   "outputs": [
    {
     "data": {
      "text/plain": [
       "{'0': ' Local experiments',\n",
       " '1590579968': ' SBM',\n",
       " '1590585263': ' Mindsets',\n",
       " '1590636599': ' cancer_10_bins',\n",
       " '1590639814': ' cancer_20_bins',\n",
       " '1590636983': ' 4_gaussian_blobs_sigma_1_binning',\n",
       " '1590638446': ' 4_gaussian_blobs_sigma_1.5_binning',\n",
       " '1590647108': ' 2_gaussian_blobs_sigma_1_binning',\n",
       " '1590647207': ' 2_gaussian_blobs_sigma_1.5_binning',\n",
       " '1590640026': ' Moons_noise0.2',\n",
       " '1590659878': ' Moons_noise0.1',\n",
       " '1590644361': ' Moons low noise'}"
      ]
     },
     "execution_count": 8,
     "metadata": {},
     "output_type": "execute_result"
    }
   ],
   "source": [
    "experiments_names = dict(pd.read_csv('../experiments.csv').astype(str).values)\n",
    "experiments_names"
   ]
  },
  {
   "cell_type": "code",
   "execution_count": 9,
   "metadata": {},
   "outputs": [],
   "source": [
    "path_raw_results = Path('../raw_results/')\n",
    "path_results = Path('../results/')"
   ]
  },
  {
   "cell_type": "code",
   "execution_count": 10,
   "metadata": {},
   "outputs": [
    {
     "name": "stdout",
     "output_type": "stream",
     "text": [
      " cancer_20_bins\n",
      "/tmp/532.csv\n",
      " cancer_10_bins\n",
      "/tmp/5436.csv\n",
      " Mindsets\n",
      "/tmp/3053.csv\n",
      " 2_gaussian_blobs_sigma_1_binning\n",
      "/tmp/456.csv\n",
      " Moons_noise0.2\n",
      "/tmp/374.csv\n",
      " SBM\n",
      "/tmp/2910.csv\n",
      " 2_gaussian_blobs_sigma_1.5_binning\n",
      "/tmp/3336.csv\n",
      " 4_gaussian_blobs_sigma_1_binning\n",
      "/tmp/5154.csv\n",
      " 4_gaussian_blobs_sigma_1.5_binning\n",
      "/tmp/2953.csv\n",
      "None\n"
     ]
    }
   ],
   "source": [
    "for exp in os.listdir(path_raw_results):\n",
    "    name = experiments_names.get(exp, None)\n",
    "    print(name)\n",
    "    if name is not None:\n",
    "        if name not in ['SBM', 'Mindsets']:\n",
    "            path_out = path_results /'benchmarks' / f'{name}.csv'\n",
    "        else:\n",
    "            path_out = path_results / f'{name}.csv'\n",
    "        \n",
    "        path_temp = merge_csv(path_raw_results / f'{exp}')    \n",
    "        print(path_temp)\n",
    "        experiment_df = pd.read_csv(path_temp).reset_index(drop=True).to_csv(path_out, index=None)"
   ]
  },
  {
   "cell_type": "code",
   "execution_count": null,
   "metadata": {},
   "outputs": [],
   "source": []
  },
  {
   "cell_type": "code",
   "execution_count": null,
   "metadata": {},
   "outputs": [],
   "source": []
  }
 ],
 "metadata": {
  "kernelspec": {
   "display_name": "tangles",
   "language": "python",
   "name": "tangles"
  },
  "language_info": {
   "codemirror_mode": {
    "name": "ipython",
    "version": 3
   },
   "file_extension": ".py",
   "mimetype": "text/x-python",
   "name": "python",
   "nbconvert_exporter": "python",
   "pygments_lexer": "ipython3",
   "version": "3.7.7"
  }
 },
 "nbformat": 4,
 "nbformat_minor": 4
}
