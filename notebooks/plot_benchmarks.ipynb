{
 "cells": [
  {
   "cell_type": "code",
   "execution_count": 3,
   "metadata": {},
   "outputs": [],
   "source": [
    "%load_ext autoreload\n",
    "%autoreload 2\n",
    "%matplotlib inline"
   ]
  },
  {
   "cell_type": "code",
   "execution_count": 4,
   "metadata": {},
   "outputs": [],
   "source": [
    "import project_path"
   ]
  },
  {
   "cell_type": "code",
   "execution_count": 5,
   "metadata": {},
   "outputs": [],
   "source": [
    "import glob\n",
    "import os\n",
    "\n",
    "from pathlib import Path\n",
    "from itertools import product\n",
    "\n",
    "import numpy as np\n",
    "import pandas as pd\n",
    "\n",
    "import matplotlib.pyplot as plt\n",
    "import matplotlib.patches as patches\n",
    "\n",
    "from src.plotting import make_result_heatmap, add_lines"
   ]
  },
  {
   "cell_type": "code",
   "execution_count": 6,
   "metadata": {},
   "outputs": [],
   "source": [
    "path_in = Path(f'../benchmarks/benchmark_SMB.csv').resolve()\n",
    "path_out = Path(f'../plots/benchmarks/SBM').resolve()\n",
    "path_out.mkdir(parents=True, exist_ok=True)"
   ]
  },
  {
   "cell_type": "code",
   "execution_count": 7,
   "metadata": {},
   "outputs": [
    {
     "data": {
      "text/html": [
       "<div>\n",
       "<style scoped>\n",
       "    .dataframe tbody tr th:only-of-type {\n",
       "        vertical-align: middle;\n",
       "    }\n",
       "\n",
       "    .dataframe tbody tr th {\n",
       "        vertical-align: top;\n",
       "    }\n",
       "\n",
       "    .dataframe thead th {\n",
       "        text-align: right;\n",
       "    }\n",
       "</style>\n",
       "<table border=\"1\" class=\"dataframe\">\n",
       "  <thead>\n",
       "    <tr style=\"text-align: right;\">\n",
       "      <th></th>\n",
       "      <th>p</th>\n",
       "      <th>q</th>\n",
       "      <th>score</th>\n",
       "      <th>method</th>\n",
       "    </tr>\n",
       "  </thead>\n",
       "  <tbody>\n",
       "    <tr>\n",
       "      <th>0</th>\n",
       "      <td>0.05</td>\n",
       "      <td>0.05</td>\n",
       "      <td>-0.001430</td>\n",
       "      <td>Spectral Custering</td>\n",
       "    </tr>\n",
       "    <tr>\n",
       "      <th>1</th>\n",
       "      <td>0.05</td>\n",
       "      <td>0.05</td>\n",
       "      <td>0.000000</td>\n",
       "      <td>Affinity Propagation</td>\n",
       "    </tr>\n",
       "    <tr>\n",
       "      <th>2</th>\n",
       "      <td>0.05</td>\n",
       "      <td>0.05</td>\n",
       "      <td>-0.002177</td>\n",
       "      <td>K-means</td>\n",
       "    </tr>\n",
       "    <tr>\n",
       "      <th>3</th>\n",
       "      <td>0.05</td>\n",
       "      <td>0.05</td>\n",
       "      <td>0.002011</td>\n",
       "      <td>Agglomerative Complete Clustering</td>\n",
       "    </tr>\n",
       "    <tr>\n",
       "      <th>4</th>\n",
       "      <td>0.05</td>\n",
       "      <td>0.05</td>\n",
       "      <td>0.025708</td>\n",
       "      <td>Agglomerative Average Clustering</td>\n",
       "    </tr>\n",
       "    <tr>\n",
       "      <th>...</th>\n",
       "      <td>...</td>\n",
       "      <td>...</td>\n",
       "      <td>...</td>\n",
       "      <td>...</td>\n",
       "    </tr>\n",
       "    <tr>\n",
       "      <th>2395</th>\n",
       "      <td>0.92</td>\n",
       "      <td>0.92</td>\n",
       "      <td>0.000000</td>\n",
       "      <td>Affinity Propagation</td>\n",
       "    </tr>\n",
       "    <tr>\n",
       "      <th>2396</th>\n",
       "      <td>0.92</td>\n",
       "      <td>0.92</td>\n",
       "      <td>-0.004937</td>\n",
       "      <td>K-means</td>\n",
       "    </tr>\n",
       "    <tr>\n",
       "      <th>2397</th>\n",
       "      <td>0.92</td>\n",
       "      <td>0.92</td>\n",
       "      <td>0.000201</td>\n",
       "      <td>Agglomerative Complete Clustering</td>\n",
       "    </tr>\n",
       "    <tr>\n",
       "      <th>2398</th>\n",
       "      <td>0.92</td>\n",
       "      <td>0.92</td>\n",
       "      <td>-0.001412</td>\n",
       "      <td>Agglomerative Average Clustering</td>\n",
       "    </tr>\n",
       "    <tr>\n",
       "      <th>2399</th>\n",
       "      <td>0.92</td>\n",
       "      <td>0.92</td>\n",
       "      <td>0.000000</td>\n",
       "      <td>Agglomerative Single Clustering</td>\n",
       "    </tr>\n",
       "  </tbody>\n",
       "</table>\n",
       "<p>2400 rows × 4 columns</p>\n",
       "</div>"
      ],
      "text/plain": [
       "         p     q     score                             method\n",
       "0     0.05  0.05 -0.001430                 Spectral Custering\n",
       "1     0.05  0.05  0.000000               Affinity Propagation\n",
       "2     0.05  0.05 -0.002177                            K-means\n",
       "3     0.05  0.05  0.002011  Agglomerative Complete Clustering\n",
       "4     0.05  0.05  0.025708   Agglomerative Average Clustering\n",
       "...    ...   ...       ...                                ...\n",
       "2395  0.92  0.92  0.000000               Affinity Propagation\n",
       "2396  0.92  0.92 -0.004937                            K-means\n",
       "2397  0.92  0.92  0.000201  Agglomerative Complete Clustering\n",
       "2398  0.92  0.92 -0.001412   Agglomerative Average Clustering\n",
       "2399  0.92  0.92  0.000000    Agglomerative Single Clustering\n",
       "\n",
       "[2400 rows x 4 columns]"
      ]
     },
     "execution_count": 7,
     "metadata": {},
     "output_type": "execute_result"
    }
   ],
   "source": [
    "df = pd.read_csv(path_in, index_col=False)\n",
    "df"
   ]
  },
  {
   "cell_type": "code",
   "execution_count": 8,
   "metadata": {},
   "outputs": [],
   "source": [
    "block_size = 100\n",
    "xs = np.arange(1, 21)\n",
    "i = (np.log(block_size) / block_size * np.arange(1, 21)).round(2)\n",
    "\n",
    "idx = np.arange(len(xs))\n",
    "mask = np.zeros((len(xs), len(xs)), dtype=bool)\n",
    "\n",
    "for a, b in product(xs, xs):\n",
    "    if a >= b:\n",
    "        mask[a-1, b-1] = (np.abs(np.sqrt(a) - np.sqrt(b)) >= np.sqrt(2))\n",
    "theory_df = pd.DataFrame(mask, columns=i, index=i).T.sort_index(ascending=False).sort_index(axis=1, ascending=True)\n",
    "values_theory = theory_df.to_numpy()"
   ]
  },
  {
   "cell_type": "code",
   "execution_count": 10,
   "metadata": {},
   "outputs": [],
   "source": [
    "experiments = [x for _, x in df.groupby(['method'])]\n",
    "columns = ['p', 'q', 'score']\n",
    "\n",
    "for experiment in experiments:\n",
    "\n",
    "    method = experiment['method'].iloc[0]\n",
    "\n",
    "    data = experiment[columns]\n",
    "    fig, ax = plt.subplots(figsize=(15, 10))\n",
    "\n",
    "    name = f\"benchmark_sbm_{method}\"\n",
    "\n",
    "    make_result_heatmap(data, ax, x_column=columns[0], y_column=columns[1], values_column=columns[2])\n",
    "    add_lines(values_theory, ax)\n",
    "    ax.set_axisbelow(True)\n",
    "\n",
    "    fig.tight_layout()\n",
    "\n",
    "    fig.savefig(f'{path_out / name}.pdf')\n",
    "    plt.close(fig) "
   ]
  },
  {
   "cell_type": "code",
   "execution_count": null,
   "metadata": {},
   "outputs": [],
   "source": []
  },
  {
   "cell_type": "code",
   "execution_count": null,
   "metadata": {},
   "outputs": [],
   "source": []
  },
  {
   "cell_type": "code",
   "execution_count": null,
   "metadata": {},
   "outputs": [],
   "source": []
  }
 ],
 "metadata": {
  "kernelspec": {
   "display_name": "tangles",
   "language": "python",
   "name": "tangles"
  },
  "language_info": {
   "codemirror_mode": {
    "name": "ipython",
    "version": 3
   },
   "file_extension": ".py",
   "mimetype": "text/x-python",
   "name": "python",
   "nbconvert_exporter": "python",
   "pygments_lexer": "ipython3",
   "version": "3.7.7"
  }
 },
 "nbformat": 4,
 "nbformat_minor": 4
}
