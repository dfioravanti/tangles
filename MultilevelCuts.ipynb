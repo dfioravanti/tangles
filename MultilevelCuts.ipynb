{
 "cells": [
  {
   "cell_type": "code",
   "execution_count": 1,
   "metadata": {},
   "outputs": [],
   "source": [
    "import numpy as np\n",
    "import networkx as nx\n",
    "import algorithms\n",
    "import evaluate"
   ]
  },
  {
   "cell_type": "markdown",
   "metadata": {},
   "source": [
    "Scheme works as follows:\n",
    "1. Coarsen input graph with some __edge merging algorithm__\n",
    "2. Partition coarsest graph with some __partitioning algorithm__\n",
    "3. Project partition of coarsest graph to partition of input graph"
   ]
  },
  {
   "cell_type": "markdown",
   "metadata": {},
   "source": [
    "# Test: SBM"
   ]
  },
  {
   "cell_type": "code",
   "execution_count": 45,
   "metadata": {},
   "outputs": [],
   "source": [
    "sizes = np.array([50, 50, 50, 50])\n",
    "p = np.array([[.8, .1, .1, .1],\n",
    "              [.1, .8, .1, .1],\n",
    "              [.1, .1, .8, .1],\n",
    "              [.1, .1 ,.1 ,.8]])\n",
    "G = nx.stochastic_block_model(sizes=sizes, p=p)\n",
    "A = nx.to_numpy_array(G)"
   ]
  },
  {
   "cell_type": "code",
   "execution_count": 26,
   "metadata": {},
   "outputs": [],
   "source": [
    "sizes = np.array([150, 50])\n",
    "p = np.array([[.4, .1],\n",
    "              [.1, .4]])\n",
    "G = nx.stochastic_block_model(sizes=sizes, p=p)\n",
    "A = nx.to_numpy_array(G)"
   ]
  },
  {
   "cell_type": "code",
   "execution_count": 46,
   "metadata": {},
   "outputs": [],
   "source": [
    "def my_temperature_merging(A, node_weights):\n",
    "    return algorithms.temperature_merging(A=A, node_weights=node_weights, temperature=.5)"
   ]
  },
  {
   "cell_type": "code",
   "execution_count": 65,
   "metadata": {
    "scrolled": false
   },
   "outputs": [
    {
     "name": "stdout",
     "output_type": "stream",
     "text": [
      "Block cut: 20.053333333333335, [1.0, 0.0, 0.0, 0.0]\n",
      "Random cut: 54.175438596491226, [0.46, 0.5, 0.48, 0.66]\n",
      "Uncoarsened cut: 19.78666666666667, [1.0, 0.0, 1.0, 1.0]\n",
      "Merging strategy: Temperature merging\n",
      "N_max=50: fractions [0.52, 0.98, 0.98, 0.96] and cut value 42.8156146179402\n",
      "Merging strategy: Random matching\n",
      "N_max=50: fractions [0.12, 0.72, 0.6, 0.2] and cut value 44.91525423728814\n",
      "Merging strategy: Heavy edge matching\n",
      "N_max=50: fractions [0.5, 0.9, 0.14, 0.82] and cut value 39.9131872674659\n",
      "Merging strategy: Max-cut matching\n",
      "N_max=50: fractions [0.64, 0.92, 0.16, 0.96] and cut value 37.7431026684758\n"
     ]
    }
   ],
   "source": [
    "merge_names = ['Temperature merging', \n",
    "               'Random matching', \n",
    "               'Heavy edge matching', \n",
    "               'Max-cut matching']\n",
    "\n",
    "x_blocks = np.zeros(A.shape[0])\n",
    "x_blocks[:sizes[0]] = 1\n",
    "block_cut = evaluate.wcut(x=x_blocks, A=A)\n",
    "block_fractions = evaluate.evaluate_SBM_partition(x=x_blocks, sizes=sizes)\n",
    "\n",
    "x_rnd = np.random.binomial(n=1, p=.5, size=A.shape[0])\n",
    "random_cut = evaluate.wcut(x=x_rnd, A=A)\n",
    "random_fractions = evaluate.evaluate_SBM_partition(x=x_rnd, sizes=sizes)\n",
    "\n",
    "x_uncoarsened = algorithms.compute_spectral_wcut(A)\n",
    "uncoarsened_cut = evaluate.wcut(x=x_uncoarsened, A=A)\n",
    "uncoarsend_fractions = evaluate.evaluate_SBM_partition(x=x_uncoarsened, sizes=sizes)\n",
    "\n",
    "print(f'Block cut: {block_cut}, {block_fractions}')\n",
    "print(f'Random cut: {random_cut}, {random_fractions}')\n",
    "print(f'Uncoarsened cut: {uncoarsened_cut}, {uncoarsend_fractions}')  \n",
    "\n",
    "for i, merge_fn in enumerate([my_temperature_merging,\n",
    "                              algorithms.random_matching_merging,\n",
    "                              algorithms.heavy_edge_merging, \n",
    "                              algorithms.max_cut_merging]):    \n",
    "    print(f'Merging strategy: {merge_names[i]}')\n",
    "    find_cuts = algorithms.FindCuts(A=A, merge_fn=merge_fn, partition_fn=algorithms.compute_spectral_wcut)\n",
    "    for N_max in [50]:\n",
    "        x = find_cuts(N_max=N_max)\n",
    "        cut_val = evaluate.wcut(x=x, A=A)\n",
    "        fractions = evaluate.evaluate_SBM_partition(x=x, sizes=sizes)\n",
    "        print(f'N_max={N_max}: fractions {fractions} and cut value {cut_val}')"
   ]
  },
  {
   "cell_type": "markdown",
   "metadata": {},
   "source": [
    "# Iterative algorithm to find coarser cuts"
   ]
  },
  {
   "cell_type": "code",
   "execution_count": 117,
   "metadata": {},
   "outputs": [],
   "source": [
    "class HierarchicalCuts(object):\n",
    "    def __init__(self, A, get_bipartition, a):\n",
    "        self.A = A\n",
    "        self.get_bipartition = get_bipartition\n",
    "        self.a = a\n",
    "        self.list_of_cuts = []\n",
    "    \n",
    "    def __call__(self, threshold):\n",
    "        print(f'Shape of A: {A.shape}, number of edges {A.sum()/2}')\n",
    "        x = get_bipartition(A)\n",
    "        self.list_of_cuts.append(x) \n",
    "        print(f'Added initial cut with lenghts {[x.sum(), (1-x).sum()]} with ratio {self.evaluate_cut(x=x, A=A)}')\n",
    "        for y in [0, 1]:\n",
    "            self.get_cuts(A_sub=A[np.ix_(x==y, x==y)], node_idxs=np.where(x==y)[0], threshold=threshold)\n",
    "    \n",
    "    def get_cuts(self, A_sub, node_idxs, threshold):\n",
    "        print(f'Shape of A: {A_sub.shape}, number of edges {A_sub.sum()/2}')\n",
    "        x_sub = get_bipartition(A_sub)\n",
    "        # Test if cut through subgraph is a meaningful partition. If no, stop. If yes, add both cuts\n",
    "        ratio = self.evaluate_cut(x=x_sub, A=A_sub)\n",
    "        print(f'ratio: {ratio}, sizes: {[x_sub.sum(), (1-x_sub).sum()]}')\n",
    "        print(ratio  < threshold and min(x_sub.sum(), (1-x_sub).sum()) > self.a)\n",
    "        if ratio  < threshold and min(x_sub.sum(), (1-x_sub).sum()) > self.a:\n",
    "            print(f'Added two new cuts with lenghts {[x_sub.sum(), (1-x_sub).sum()]} and ratio {ratio}')\n",
    "            for y in [0, 1]:\n",
    "                x = np.zeros(self.A.shape[0])\n",
    "                x[node_idxs[x_sub==y]] = 1\n",
    "                self.list_of_cuts.append(x)\n",
    "                # Recursively call function on this subset\n",
    "                self.get_cuts(A_sub=A_sub[np.ix_(x_sub==y, x_sub==y)], \n",
    "                              node_idxs=node_idxs[np.where(x_sub==y)[0]],\n",
    "                              threshold=threshold)\n",
    "        print('Reached leaf')\n",
    "        return\n",
    "    \n",
    "    def evaluate_cut(self, x, A):\n",
    "        x_rnd = np.random.binomial(n=1, p=.5, size=A.shape[0])\n",
    "        val = evaluate.wcut(x=x, A=A)\n",
    "        val_rnd = evaluate.wcut(x=x_rnd, A=A)        \n",
    "        return val / val_rnd"
   ]
  },
  {
   "cell_type": "markdown",
   "metadata": {},
   "source": [
    "# Example"
   ]
  },
  {
   "cell_type": "code",
   "execution_count": 134,
   "metadata": {},
   "outputs": [],
   "source": [
    "sizes = np.array([200, 100, 100])\n",
    "p = np.array([[.6, .1, .1],\n",
    "              [.1, .6, .1],\n",
    "              [.1, .1, .6]])\n",
    "G = nx.stochastic_block_model(sizes=sizes, p=p)\n",
    "A = nx.to_numpy_array(G)"
   ]
  },
  {
   "cell_type": "code",
   "execution_count": 145,
   "metadata": {},
   "outputs": [],
   "source": [
    "# Need to rewrite FindCuts as a function instead of a class\n",
    "def get_bipartition(A):\n",
    "    find_cuts = algorithms.FindCuts(A=A, merge_fn=algorithms.random_matching_merging, \n",
    "                                    partition_fn=algorithms.compute_spectral_wcut)\n",
    "    return find_cuts(N_max=100, verbose=False)"
   ]
  },
  {
   "cell_type": "code",
   "execution_count": 148,
   "metadata": {
    "scrolled": false
   },
   "outputs": [
    {
     "name": "stdout",
     "output_type": "stream",
     "text": [
      "Shape of A: (400, 400), number of edges 22846.0\n",
      "Added initial cut with lenghts [103.0, 297.0] with ratio 0.7640474728793062\n",
      "Shape of A: (297, 297), number of edges 14601.0\n",
      "ratio: 0.49034430469399093, sizes: [43.0, 254.0]\n",
      "True\n",
      "Added two new cuts with lenghts [43.0, 254.0] and ratio 0.49034430469399093\n",
      "Shape of A: (254, 254), number of edges 12514.0\n",
      "ratio: 0.34875540605478145, sizes: [250.0, 4.0]\n",
      "False\n",
      "Reached leaf\n",
      "Shape of A: (43, 43), number of edges 315.0\n",
      "ratio: 0.3105590062111801, sizes: [21.0, 22.0]\n",
      "True\n",
      "Added two new cuts with lenghts [21.0, 22.0] and ratio 0.3105590062111801\n",
      "Shape of A: (22, 22), number of edges 136.0\n",
      "ratio: 0.8870967741935486, sizes: [4.0, 18.0]\n",
      "False\n",
      "Reached leaf\n",
      "Shape of A: (21, 21), number of edges 129.0\n",
      "ratio: 0.7205882352941178, sizes: [4.0, 17.0]\n",
      "False\n",
      "Reached leaf\n",
      "Reached leaf\n",
      "Reached leaf\n",
      "Shape of A: (103, 103), number of edges 1600.0\n",
      "ratio: 0.3856706578118184, sizes: [98.0, 5.0]\n",
      "False\n",
      "Reached leaf\n"
     ]
    },
    {
     "data": {
      "text/plain": [
       "[[0.065, 0.52, 0.38],\n",
       " [0.935, 0.27, 0.4],\n",
       " [0.0, 0.21, 0.22],\n",
       " [0.0, 0.0, 0.22],\n",
       " [0.0, 0.21, 0.0]]"
      ]
     },
     "execution_count": 148,
     "metadata": {},
     "output_type": "execute_result"
    }
   ],
   "source": [
    "hierarchical_cuts = HierarchicalCuts(A=A, get_bipartition=get_bipartition, a=20)\n",
    "hierarchical_cuts(threshold=.9)\n",
    "[evaluate.evaluate_SBM_partition(x=x, sizes=sizes) for x in hierarchical_cuts.list_of_cuts]"
   ]
  },
  {
   "cell_type": "code",
   "execution_count": null,
   "metadata": {},
   "outputs": [],
   "source": []
  }
 ],
 "metadata": {
  "kernelspec": {
   "display_name": "Python 3",
   "language": "python",
   "name": "python3"
  },
  "language_info": {
   "codemirror_mode": {
    "name": "ipython",
    "version": 3
   },
   "file_extension": ".py",
   "mimetype": "text/x-python",
   "name": "python",
   "nbconvert_exporter": "python",
   "pygments_lexer": "ipython3",
   "version": "3.7.1"
  }
 },
 "nbformat": 4,
 "nbformat_minor": 2
}
