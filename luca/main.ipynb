{
 "cells": [
  {
   "cell_type": "code",
   "execution_count": 1,
   "metadata": {},
   "outputs": [],
   "source": [
    "import numpy as np\n",
    "import matplotlib.pyplot as plt\n",
    "\n",
    "import utils"
   ]
  },
  {
   "cell_type": "code",
   "execution_count": 2,
   "metadata": {},
   "outputs": [],
   "source": [
    "class Tangles(object):\n",
    "    \"\"\"Compute tangles of features on a given questionnaire with questions as cuts. \n",
    "    \n",
    "    Attributes:\n",
    "        maximal_tangles: List of tangles. Every tangle is represented as a list of oriented cuts, and every \n",
    "                         oriented cut is a tuple (index, flip) of a row index and a boolean.\n",
    "    \"\"\"\n",
    "    \n",
    "    def __init__(self, questionnaire, n):\n",
    "        \"\"\"\n",
    "        Args:\n",
    "           questionnaire (np.array): An (N,m)-array of with entries 0 or 1, representing the answers to questions. \n",
    "                                     Rows indicate persons, columns indicate questions.\n",
    "           n (int): Integer for consistency condition, determining the minimum necessary triplet intersection.\n",
    "        \"\"\"\n",
    "        self.questionnaire = questionnaire\n",
    "        self.N, self.m = questionnaire.shape\n",
    "        self.n = n\n",
    "        self.cuts = questionnaire.T\n",
    "        self.maximal_tangles = []\n",
    "        self.cut_values = []\n",
    "        self.similarities = None\n",
    "\n",
    "    def _get_similarities(self):\n",
    "        self.similarities = np.zeros((self.N, self.N))\n",
    "        for i in range(self.N):\n",
    "            for j in range(self.N):\n",
    "                self.similarities[i, j] = (self.questionnaire[i]==self.questionnaire[j]).sum()\n",
    "        \n",
    "    def _get_oriented_cut(self, indexed_orientation):\n",
    "        \"\"\"Translate a cut from index-representation to array-representation.\n",
    "        \n",
    "        Args:\n",
    "            indexed_orientation : Tuple. First entry is the row index of the cut (integer), second entry is a \n",
    "                                  boolean that indicates whether to flip the cut.\n",
    "                          \n",
    "        Returns:\n",
    "            oriented_cut : Array with entries 0 and 1, where 1 indicates the chosen orientation.\n",
    "        \"\"\"\n",
    "        index, flip = indexed_orientation\n",
    "        oriented_cut = self.cuts[index]\n",
    "        if flip:\n",
    "            oriented_cut = 1 - oriented_cut\n",
    "        return oriented_cut\n",
    "    \n",
    "    def _evaluate_tangle(self, tangle):\n",
    "        \"\"\"Translate a tangle from index-representation to a collection of subsets.\"\"\"\n",
    "        return [self._get_oriented_cut(indexed_orientation) for indexed_orientation in tangle]        \n",
    "        \n",
    "    def order_fn(self, cut):\n",
    "        \"\"\"Normalized Hamming-similarity of cut.\n",
    "        \n",
    "        Args:\n",
    "            cut (np.array): Bipartition of persons as row-vector with entries 0 and 1.\n",
    "        \n",
    "        Returns:\n",
    "            cut_value (float): The normalized order of the cut.\n",
    "        \"\"\"\n",
    "        cut_value = (cut @ self.similarities) @ (1 - cut).T\n",
    "        return cut_value / (self.N ** 2 * self.m / 4)\n",
    "    \n",
    "    def test_consistent(self, triplet):\n",
    "        \"\"\" Test whether a given triplet of orientations is consistent.\"\"\"\n",
    "        intersection = triplet[0] * triplet[1] * triplet[2]\n",
    "        return intersection.sum() >= self.n\n",
    "    \n",
    "    def test_compatible(self, tangle, oriented_cut):\n",
    "        \"\"\" Try to add an oriented cut to a tangle, if consistency condition holds.\n",
    "        \n",
    "        Args:\n",
    "            tangle : List of oriented cuts that satisfy consistency condition.\n",
    "            oriented_cut : subset of persons (questionnaire rows) \n",
    "        \n",
    "        Returns:\n",
    "            is_compatible : True, if consistency condition holds and the oriented cut can be added to\n",
    "                            tangle, and False otherwise.\n",
    "        \"\"\"\n",
    "        tangle = self._evaluate_tangle(tangle)\n",
    "        if len(tangle)<2:\n",
    "            tangle += [np.ones_like(oriented_cut), np.ones_like(oriented_cut)]        \n",
    "        k = len(tangle)\n",
    "        for i in range(k):\n",
    "            for j in range(i+1, k):\n",
    "                is_consistent = self.test_consistent([tangle[i], tangle[j], oriented_cut])\n",
    "                if not is_consistent:\n",
    "                    return False\n",
    "        return True    \n",
    "        \n",
    "    def compute_tangles(self, max_order=1):\n",
    "        \"\"\" Identify maximal tangles of increasing order by iteratively adding cuts. \n",
    "        \n",
    "        Args:\n",
    "            max_order (float): Order of maximal cut to be considered. Default is 1 (meaning all orders).\n",
    "        \"\"\"            \n",
    "        if self.similarities is None:\n",
    "            self._get_similarities()\n",
    "        self.cut_values = [self.order_fn(cut) for cut in self.cuts]\n",
    "        ordered_cut_indices = [index for index in np.argsort(self.cut_values) if self.cut_values[index]<=max_order]\n",
    "        self.maximal_tangles = []\n",
    "        old_tangles = [[]]\n",
    "        for index in ordered_cut_indices:\n",
    "            new_tangles = []\n",
    "            for tangle in old_tangles:\n",
    "                is_maximal = True\n",
    "                for flip in [True, False]:\n",
    "                    oriented_cut = self._get_oriented_cut((index, flip))\n",
    "                    is_compatible = self.test_compatible(tangle, oriented_cut)\n",
    "                    if is_compatible:\n",
    "                        new_tangle = tangle + [(index, flip)]\n",
    "                        new_tangles.append(new_tangle)\n",
    "                        is_maximal = False\n",
    "                if is_maximal:\n",
    "                    self.maximal_tangles.append(tangle)\n",
    "            if new_tangles==[]:\n",
    "                return\n",
    "            old_tangles = new_tangles\n",
    "        self.maximal_tangles += new_tangles\n",
    "        return\n",
    "    \n",
    "    def get_cluster(self, tangle):\n",
    "        \"\"\" Translate a tangle into a cluster by counting their big sides.\"\"\"\n",
    "        return sum(self._evaluate_tangle(tangle))"
   ]
  },
  {
   "cell_type": "code",
   "execution_count": 3,
   "metadata": {},
   "outputs": [],
   "source": [
    "def questionnaire_from_template(num_questions, num_templates, persons_per_template, noise):\n",
    "    \"\"\"Generate a questionnaire by applying noise to template ways of answering.\"\"\"\n",
    "    templates = np.random.binomial(1, 0.5, (num_templates, num_questions))\n",
    "    questionnaire = []\n",
    "    for template in templates:\n",
    "        questionnaire += [list(template), ]*persons_per_template\n",
    "    questionnaire = np.array(questionnaire)\n",
    "    flip = np.random.binomial(1, noise, questionnaire.shape)\n",
    "    questionnaire[flip==1] = 1 - questionnaire[flip==1]\n",
    "    return questionnaire, templates\n",
    "\n",
    "def tangles_on_templates(templates, tangles):\n",
    "    \"\"\"Evaluate how well the templates are represented by the tangles.\n",
    "    \n",
    "    For every template, compute the Hamming-distance to all tangles, and return the minimal value.\n",
    "    \n",
    "    Args:\n",
    "        templates: (k, m)-array with rows as templates and columns as questions.\n",
    "        tangles: (l, m)-array with rows as tangles and columns as questions.\n",
    "    \n",
    "    Returns:\n",
    "        distance_to_tangles: (k, 1)-array, where rows are the templates and entries are the minimal distance to\n",
    "                             any tangle.\n",
    "    \"\"\"\n",
    "    tangle_templates = []\n",
    "    for tangle in tangles:\n",
    "        tangle_template = np.zeros(templates.shape[1], dtype='int')\n",
    "        for idx, flip in tangle:\n",
    "            tangle_template[idx] = 1 - flip\n",
    "        tangle_templates.append(tangle_template)\n",
    "    distance_to_tangles = np.zeros((len(tangle_templates),templates.shape[0]))\n",
    "    for i in range(len(tangle_templates)):\n",
    "        for j in range(templates.shape[0]):\n",
    "            distance_to_tangles[i, j] = np.sum(np.abs(tangle_templates[i] - templates[j]))\n",
    "    distance_to_tangles = np.min(distance_to_tangles, axis=1)\n",
    "    return distance_to_tangles"
   ]
  },
  {
   "cell_type": "markdown",
   "metadata": {},
   "source": [
    "# Evaluation"
   ]
  },
  {
   "cell_type": "markdown",
   "metadata": {},
   "source": [
    "#### Generate  random questions from random template participants"
   ]
  },
  {
   "cell_type": "code",
   "execution_count": 13,
   "metadata": {},
   "outputs": [],
   "source": [
    "num_questions = 20\n",
    "num_templates = 3\n",
    "persons_per_template = 30\n",
    "noise = 0.1\n",
    "questionnaire, templates = questionnaire_from_template(num_questions=num_questions, num_templates=num_templates, \n",
    "                                                       persons_per_template=persons_per_template, \n",
    "                                                       noise=noise)"
   ]
  },
  {
   "cell_type": "code",
   "execution_count": 14,
   "metadata": {},
   "outputs": [
    {
     "data": {
      "text/plain": [
       "array([[1, 1, 0, 1, 1, 0, 1, 0, 0, 0, 0, 1, 0, 0, 1, 0, 0, 1, 1, 1],\n",
       "       [0, 0, 0, 0, 0, 1, 1, 0, 0, 0, 1, 1, 0, 0, 0, 0, 1, 0, 1, 0],\n",
       "       [1, 0, 0, 0, 0, 1, 1, 0, 1, 0, 0, 1, 0, 1, 0, 0, 0, 0, 1, 1]])"
      ]
     },
     "execution_count": 14,
     "metadata": {},
     "output_type": "execute_result"
    }
   ],
   "source": [
    "templates"
   ]
  },
  {
   "cell_type": "code",
   "execution_count": 15,
   "metadata": {
    "scrolled": true
   },
   "outputs": [],
   "source": [
    "tangles = Tangles(questionnaire=questionnaire, n=15)\n",
    "tangles.compute_tangles(max_order=1)\n",
    "clusters = [tangles.get_cluster(tangle) for tangle in tangles.maximal_tangles]\n",
    "num_cuts = [len(tangle) for tangle in tangles.maximal_tangles]"
   ]
  },
  {
   "cell_type": "code",
   "execution_count": 16,
   "metadata": {},
   "outputs": [
    {
     "data": {
      "text/plain": [
       "[(6, False),\n",
       " (18, False),\n",
       " (7, True),\n",
       " (12, True),\n",
       " (15, True),\n",
       " (11, False),\n",
       " (2, True),\n",
       " (9, True),\n",
       " (3, True),\n",
       " (5, False),\n",
       " (4, True),\n",
       " (16, True),\n",
       " (10, True),\n",
       " (0, False),\n",
       " (1, True),\n",
       " (14, True),\n",
       " (17, True),\n",
       " (19, False),\n",
       " (13, False)]"
      ]
     },
     "execution_count": 16,
     "metadata": {},
     "output_type": "execute_result"
    }
   ],
   "source": [
    "tangles.maximal_tangles[0]"
   ]
  },
  {
   "cell_type": "markdown",
   "metadata": {},
   "source": [
    "#### Plot the tangles by showing their score on each person"
   ]
  },
  {
   "cell_type": "code",
   "execution_count": 17,
   "metadata": {},
   "outputs": [
    {
     "data": {
      "image/png": "[encoded data removed]",
      "text/plain": [
       "<Figure size 864x864 with 4 Axes>"
      ]
     },
     "metadata": {
      "needs_background": "light"
     },
     "output_type": "display_data"
    }
   ],
   "source": [
    "num_persons = questionnaire.shape[0]\n",
    "k = len(clusters)\n",
    "dim_plot = np.int(np.ceil(np.sqrt(k)))\n",
    "\n",
    "f, axs = plt.subplots(nrows=dim_plot, ncols = dim_plot, figsize=(12,12))\n",
    "if k==1:\n",
    "    axs = np.array(axs)\n",
    "axs = axs.flatten()\n",
    "for i, cluster in enumerate(clusters):\n",
    "    axs[i].scatter(np.arange(1, num_persons+1), cluster)\n",
    "    for j in range(1, num_templates):\n",
    "        axs[i].vlines(x=j * persons_per_template + 0.5, ymin=0, ymax=max(cluster), linestyles='dashed')   \n",
    "    axs[i].set_title(f'Number of cuts in tangle: {num_cuts[i]} out of {num_questions}')\n",
    "for i in range(k, len(axs)):\n",
    "    axs[i].axis('off')"
   ]
  },
  {
   "cell_type": "markdown",
   "metadata": {},
   "source": [
    "Interpetation: if $n$ is chosen large enough, only the high-level structure is revealed, that is, the templates are recovered"
   ]
  },
  {
   "cell_type": "markdown",
   "metadata": {},
   "source": [
    "#### Compare tangles as \"typical ways of answering\" with templates"
   ]
  },
  {
   "cell_type": "code",
   "execution_count": 18,
   "metadata": {},
   "outputs": [
    {
     "data": {
      "text/plain": [
       "array([1., 0., 0.])"
      ]
     },
     "execution_count": 18,
     "metadata": {},
     "output_type": "execute_result"
    }
   ],
   "source": [
    "tangles_on_templates(templates, tangles.maximal_tangles)"
   ]
  },
  {
   "cell_type": "markdown",
   "metadata": {},
   "source": [
    "Interpretation: Every template (columns) can be described by a tangle (rows)"
   ]
  }
 ],
 "metadata": {
  "kernelspec": {
   "display_name": "Python 3",
   "language": "python",
   "name": "python3"
  },
  "language_info": {
   "codemirror_mode": {
    "name": "ipython",
    "version": 3
   },
   "file_extension": ".py",
   "mimetype": "text/x-python",
   "name": "python",
   "nbconvert_exporter": "python",
   "pygments_lexer": "ipython3",
   "version": "3.7.1"
  }
 },
 "nbformat": 4,
 "nbformat_minor": 2
}
