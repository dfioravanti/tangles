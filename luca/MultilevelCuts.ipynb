{
 "cells": [
  {
   "cell_type": "code",
   "execution_count": 1,
   "metadata": {},
   "outputs": [],
   "source": [
    "import numpy as np\n",
    "import networkx as nx\n",
    "import algorithms\n",
    "import evaluate"
   ]
  },
  {
   "cell_type": "markdown",
   "metadata": {},
   "source": [
    "Scheme works as follows:\n",
    "1. Coarsen input graph with some __edge merging algorithm__\n",
    "2. Partition coarsest graph with some __partitioning algorithm__\n",
    "3. Project partition of coarsest graph to partition of input graph"
   ]
  },
  {
   "cell_type": "markdown",
   "metadata": {},
   "source": [
    "# Test: SBM"
   ]
  },
  {
   "cell_type": "code",
   "execution_count": 2,
   "metadata": {},
   "outputs": [],
   "source": [
    "sizes = np.array([100, 100, 100])\n",
    "p = np.array([[.8, .1, .1],\n",
    "              [.1, .8, .1],\n",
    "              [.1, .1, .8]])\n",
    "G = nx.stochastic_block_model(sizes=sizes, p=p)\n",
    "A = nx.to_numpy_array(G)"
   ]
  },
  {
   "cell_type": "code",
   "execution_count": 3,
   "metadata": {},
   "outputs": [],
   "source": [
    "def my_temperature_merging(A, node_weights):\n",
    "    return algorithms.temperature_merging(A=A, node_weights=node_weights, temperature=.5)"
   ]
  },
  {
   "cell_type": "code",
   "execution_count": 4,
   "metadata": {
    "scrolled": false
   },
   "outputs": [
    {
     "name": "stdout",
     "output_type": "stream",
     "text": [
      "Block cut: 29.865\n",
      "Random cut: 99.38650306748468\n",
      "Uncoarsened cut: 29.52\n",
      "Merging strategy: Temperature merging\n",
      "Start coarsening\n",
      "300 nodes in graph\n",
      "169 nodes in graph\n",
      "89 nodes in graph\n",
      "Start partitioning\n",
      "Start refining\n",
      "N_max=100: fractions [0.95, 0.47, 0.24] and cut value 73.9480309296889\n",
      "Merging strategy: Random matching\n",
      "Start coarsening\n",
      "300 nodes in graph\n",
      "151 nodes in graph\n",
      "76 nodes in graph\n",
      "Start partitioning\n",
      "Start refining\n",
      "N_max=100: fractions [0.13, 0.18, 0.9] and cut value 63.23006602336211\n",
      "Merging strategy: Heavy edge matching\n",
      "Start coarsening\n",
      "300 nodes in graph\n",
      "151 nodes in graph\n",
      "76 nodes in graph\n",
      "Start partitioning\n",
      "Start refining\n",
      "N_max=100: fractions [0.82, 0.78, 0.19] and cut value 73.97848469458425\n",
      "Merging strategy: Max-cut matching\n",
      "Start coarsening\n",
      "300 nodes in graph\n",
      "151 nodes in graph\n",
      "76 nodes in graph\n",
      "Start partitioning\n",
      "Start refining\n",
      "N_max=100: fractions [0.41, 0.25, 0.91] and cut value 76.71373212774488\n"
     ]
    }
   ],
   "source": [
    "merge_names = ['Temperature merging', \n",
    "               'Random matching', \n",
    "               'Heavy edge matching', \n",
    "               'Max-cut matching']\n",
    "\n",
    "x_blocks = np.zeros(A.shape[0])\n",
    "x_blocks[:sizes[0]] = 1\n",
    "block_cut = evaluate.wcut(x=x_blocks, A=A)\n",
    "\n",
    "x_rnd = np.random.binomial(n=1, p=.5, size=A.shape[0])\n",
    "random_cut = evaluate.wcut(x=x_rnd, A=A)\n",
    "\n",
    "uncoarsened_cut = evaluate.wcut(x=algorithms.compute_spectral_wcut(A), A=A)\n",
    "\n",
    "print(f'Block cut: {block_cut}')\n",
    "print(f'Random cut: {random_cut}')\n",
    "print(f'Uncoarsened cut: {uncoarsened_cut}')  \n",
    "\n",
    "for i, merge_fn in enumerate([my_temperature_merging,\n",
    "                              algorithms.random_matching_merging,\n",
    "                              algorithms.heavy_edge_merging, \n",
    "                              algorithms.max_cut_merging]):    \n",
    "    print(f'Merging strategy: {merge_names[i]}')\n",
    "    find_cuts = algorithms.FindCuts(A=A, merge_fn=merge_fn, partition_fn=algorithms.compute_spectral_wcut)\n",
    "    for N_max in [100]:\n",
    "        x = find_cuts(N_max=N_max)\n",
    "        cut_val = evaluate.wcut(x=x, A=A)\n",
    "        fractions = evaluate.evaluate_SBM_partition(x=x, sizes=sizes)\n",
    "        print(f'N_max={N_max}: fractions {fractions} and cut value {cut_val}')"
   ]
  },
  {
   "cell_type": "markdown",
   "metadata": {},
   "source": [
    "# Iterative algorithm to find coarser cuts"
   ]
  },
  {
   "cell_type": "code",
   "execution_count": null,
   "metadata": {},
   "outputs": [],
   "source": [
    "class HierarchicalCuts(object):\n",
    "    def __init__(self, A, CutFinder):\n",
    "        self.A = A\n",
    "        self.CutFinder = CutFinder"
   ]
  }
 ],
 "metadata": {
  "kernelspec": {
   "display_name": "Python 3",
   "language": "python",
   "name": "python3"
  },
  "language_info": {
   "codemirror_mode": {
    "name": "ipython",
    "version": 3
   },
   "file_extension": ".py",
   "mimetype": "text/x-python",
   "name": "python",
   "nbconvert_exporter": "python",
   "pygments_lexer": "ipython3",
   "version": "3.7.3"
  }
 },
 "nbformat": 4,
 "nbformat_minor": 2
}
