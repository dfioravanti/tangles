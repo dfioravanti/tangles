{
 "cells": [
  {
   "cell_type": "code",
   "execution_count": 2,
   "metadata": {},
   "outputs": [],
   "source": [
    "import numpy as np\n",
    "import networkx as nx\n",
    "import algorithms"
   ]
  },
  {
   "cell_type": "markdown",
   "metadata": {},
   "source": [
    "# Example for SBM"
   ]
  },
  {
   "cell_type": "code",
   "execution_count": 3,
   "metadata": {},
   "outputs": [],
   "source": [
    "sizes = np.array([1000, 1000])\n",
    "p = np.array([[.8, .1],\n",
    "              [.1, .8]])\n",
    "G = nx.stochastic_block_model(sizes=sizes, p=p)\n",
    "A = nx.to_numpy_array(G)"
   ]
  },
  {
   "cell_type": "markdown",
   "metadata": {},
   "source": [
    "Different coarsening options. You can use the max-cut for now, that's the one they recommend in the paper."
   ]
  },
  {
   "cell_type": "code",
   "execution_count": 4,
   "metadata": {},
   "outputs": [
    {
     "name": "stdout",
     "output_type": "stream",
     "text": [
      "Cut [1. 1. 1. ... 1. 1. 1.] with Temperature merging\n",
      "Cut [0. 0. 0. ... 0. 0. 0.] with Random matching\n",
      "Cut [1. 1. 1. ... 0. 0. 0.] with Heavy edge matching\n",
      "Cut [0. 0. 1. ... 1. 1. 1.] with Max-cut matching\n"
     ]
    }
   ],
   "source": [
    "def my_temperature_merging(A, node_weights):\n",
    "    return algorithms.temperature_merging(A=A, node_weights=node_weights, temperature=.5)\n",
    "\n",
    "merge_names = ['Temperature merging', \n",
    "               'Random matching', \n",
    "               'Heavy edge matching', \n",
    "               'Max-cut matching']\n",
    "for i, merge_fn in enumerate([my_temperature_merging,\n",
    "                              algorithms.random_matching_merging,\n",
    "                              algorithms.heavy_edge_merging, \n",
    "                              algorithms.max_cut_merging]):\n",
    "    find_cuts = algorithms.FindCuts(A=A, merge_fn=merge_fn, partition_fn=algorithms.compute_spectral_wcut)\n",
    "    x = find_cuts(N_max=100, verbose=False)\n",
    "    print(f'Cut {x} with {merge_names[i]}')"
   ]
  },
  {
   "cell_type": "code",
   "execution_count": null,
   "metadata": {},
   "outputs": [],
   "source": []
  }
 ],
 "metadata": {
  "kernelspec": {
   "display_name": "Python 3",
   "language": "python",
   "name": "python3"
  },
  "language_info": {
   "codemirror_mode": {
    "name": "ipython",
    "version": 3
   },
   "file_extension": ".py",
   "mimetype": "text/x-python",
   "name": "python",
   "nbconvert_exporter": "python",
   "pygments_lexer": "ipython3",
   "version": "3.7.6"
  }
 },
 "nbformat": 4,
 "nbformat_minor": 4
}
